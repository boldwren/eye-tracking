{
 "cells": [
  {
   "cell_type": "code",
   "execution_count": 1,
   "metadata": {},
   "outputs": [],
   "source": [
    "from typing import List, Any\n",
    "Shape = Any\n"
   ]
  },
  {
   "cell_type": "code",
   "execution_count": 103,
   "metadata": {},
   "outputs": [],
   "source": [
    "from functools import lru_cache\n",
    "import sys\n",
    "import os\n",
    "import glob\n",
    "import time\n",
    "\n",
    "import dlib\n",
    "from scipy.spatial import distance as dist\n",
    "import cv2\n",
    "from matplotlib import pyplot\n",
    "import tqdm.notebook\n",
    "import ipywidgets as wg\n",
    "import IPython.core.display\n",
    "import numpy\n",
    "\n",
    "from IPython.lib import backgroundjobs\n",
    "\n",
    "HOME = os.environ['HOME']"
   ]
  },
  {
   "cell_type": "code",
   "execution_count": null,
   "metadata": {},
   "outputs": [],
   "source": [
    "jobs = backgroundjobs.BackgroundJobManager()\n"
   ]
  },
  {
   "cell_type": "code",
   "execution_count": 3,
   "metadata": {},
   "outputs": [],
   "source": [
    "# If this is broken then patch $VIRTUAL_ENV/lib/python3.7/site-packages/faced/detector.py\n",
    "# as described in https://github.com/iitzco/faced/issues/27 and then:\n",
    "#     del sys.modules[\"faced.detector\"]\n",
    "#     del sys.modules[\"faced\"]\n",
    "# so that it reloads when you import it again.\n",
    "# import faced\n"
   ]
  },
  {
   "cell_type": "code",
   "execution_count": 4,
   "metadata": {},
   "outputs": [],
   "source": [
    "predictor_path = 'shape_predictor_68_face_landmarks.dat'\n",
    "detector = dlib.get_frontal_face_detector()\n",
    "predictor = dlib.shape_predictor(predictor_path)\n"
   ]
  },
  {
   "cell_type": "code",
   "execution_count": 5,
   "metadata": {},
   "outputs": [],
   "source": [
    "@lru_cache(maxsize=1000_000)\n",
    "def detect(filename) -> List[Shape]:\n",
    "    img = dlib.load_rgb_image(filename)\n",
    "    dets = detector(img, 1)\n",
    "    shapes = []\n",
    "    for d in dets:\n",
    "        shape = predictor(img, d)\n",
    "        shapes.append(shape)\n",
    "    return shapes\n"
   ]
  },
  {
   "cell_type": "markdown",
   "metadata": {},
   "source": [
    "\n",
    "\n",
    "face_detector = faced.FaceDetector()\n",
    "\n",
    "def to_rectangles(bboxes):\n",
    "    rectangles = dlib.rectangles()\n",
    "    for (x_center, y_center, width, height, prob) in bboxes:\n",
    "        rectangle = dlib.rectangle(\n",
    "            x_center - (width//2),\n",
    "            y_center - (height//2),\n",
    "            x_center + (width//2),\n",
    "            y_center + (height//2),\n",
    "        )\n",
    "        rectangles.append(rectangle)\n",
    "    return rectangles\n",
    "\n",
    "@lru_cache(maxsize=1000_000)\n",
    "def detect_both_ways(filename):\n",
    "    img = dlib.load_rgb_image(filename)\n",
    "    dets = detector(img, 1)\n",
    "\n",
    "    img = cv2.imread(filename)\n",
    "    rgb_img = cv2.cvtColor(img.copy(), cv2.COLOR_BGR2RGB)\n",
    "\n",
    "    # Receives RGB numpy image (HxWxC) and\n",
    "    # returns (x_center, y_center, width, height, prob) tuples. \n",
    "    bboxes = face_detector.predict(rgb_img)\n",
    "    return dets, to_rectangles(bboxes)\n",
    "\n",
    "\n",
    "\n",
    "@lru_cache(maxsize=1000_000)\n",
    "def detect2(filename):\n",
    "    img = cv2.imread(filename)\n",
    "    rgb_img = cv2.cvtColor(img.copy(), cv2.COLOR_BGR2RGB)\n",
    "    bboxes = face_detector.predict(rgb_img)\n",
    "    rectangles = to_rectangles(bboxes)\n",
    "    faces = []\n",
    "    for d in rectangles:\n",
    "        face = predictor(img, d)\n",
    "        if valid(face, img.shape):\n",
    "            faces.append(face)\n",
    "    return faces"
   ]
  },
  {
   "cell_type": "code",
   "execution_count": 6,
   "metadata": {},
   "outputs": [],
   "source": [
    "# see https://www.learnopencv.com/face-detection-opencv-dlib-and-deep-learning-c-python/\n",
    "import cv2\n",
    "import time\n",
    "import sys\n",
    "\n",
    "\n",
    "def detectFaceOpenCVDnn(net, frame):\n",
    "    conf_threshold = 0.8\n",
    "    \n",
    "    frameOpencvDnn = frame.copy()\n",
    "    frameHeight = frameOpencvDnn.shape[0]\n",
    "    frameWidth = frameOpencvDnn.shape[1]\n",
    "    blob = cv2.dnn.blobFromImage(frameOpencvDnn, 1.0, (300, 300), [104, 117, 123], False, False)\n",
    "\n",
    "    net.setInput(blob)\n",
    "    detections = net.forward()\n",
    "    bboxes = []\n",
    "    for i in range(detections.shape[2]):\n",
    "        confidence = detections[0, 0, i, 2]\n",
    "        if confidence > conf_threshold:\n",
    "            x1 = int(detections[0, 0, i, 3] * frameWidth)\n",
    "            y1 = int(detections[0, 0, i, 4] * frameHeight)\n",
    "            x2 = int(detections[0, 0, i, 5] * frameWidth)\n",
    "            y2 = int(detections[0, 0, i, 6] * frameHeight)\n",
    "            bboxes.append((confidence, [x1, y1, x2, y2]))\n",
    "            cv2.rectangle(frameOpencvDnn, (x1, y1), (x2, y2), (0, 255, 0), int(round(frameHeight/150)), 8)\n",
    "    return frameOpencvDnn, bboxes\n",
    "\n",
    "@lru_cache()\n",
    "def initOpenCVDnn():\n",
    "    modelFile = \"learnopencv/FaceDetectionComparison/models/res10_300x300_ssd_iter_140000_fp16.caffemodel\"\n",
    "    configFile = \"learnopencv/FaceDetectionComparison/models/deploy.prototxt\"\n",
    "    net = cv2.dnn.readNetFromCaffe(configFile, modelFile)\n",
    "    \n",
    "    return net\n",
    "\n",
    "@lru_cache(maxsize=1000_000)\n",
    "def detect_dnn_with_scores(filename):\n",
    "    net = initOpenCVDnn()\n",
    "    img = cv2.imread(filename)\n",
    "#     rgb_img = cv2.cvtColor(img.copy(), cv2.COLOR_BGR2RGB)\n",
    "    outOpencvDnn, bboxes = detectFaceOpenCVDnn(net,img)\n",
    "    \n",
    "    faces = []\n",
    "    for score, bbox in bboxes:\n",
    "        face = predictor(img, dlib.rectangle(*bbox))\n",
    "        if valid(face, img.shape):\n",
    "            faces.append((score, face))\n",
    "    return faces\n",
    "\n",
    "\n",
    "def detect_dnn(filename):\n",
    "    return [face for (_, face) in detect_dnn_with_scores(filename)]"
   ]
  },
  {
   "cell_type": "code",
   "execution_count": 7,
   "metadata": {},
   "outputs": [],
   "source": [
    "def valid(face, shape=(1920, 3840, 3)):\n",
    "    y, x, *_channels = shape\n",
    "    return any((point.x < x and point.y < y) for point in face.parts())\n",
    "\n",
    "def only_valid(faces, shape=(1920, 3840, 3)):\n",
    "    return [\n",
    "        face for face in faces\n",
    "        if valid(face, shape)\n",
    "    ]\n",
    "\n",
    "def only_invalid(faces, shape=(1920, 3840, 3)):\n",
    "    return [\n",
    "        face for face in faces\n",
    "        if not valid(face, shape)\n",
    "    ]"
   ]
  },
  {
   "cell_type": "code",
   "execution_count": 408,
   "metadata": {},
   "outputs": [],
   "source": [
    "cache = {}\n",
    "def detect_with_fallbacks(filename):\n",
    "    shortname = filename.split('/')[-1]\n",
    "    if 'thumbs-mostviewed' not in filename:\n",
    "        return detect_dnn(filename)\n",
    "    elif shortname not in cache:\n",
    "        cache[shortname] = detect_dnn(filename)\n",
    "        \n",
    "    return cache[shortname]\n"
   ]
  },
  {
   "cell_type": "code",
   "execution_count": 82,
   "metadata": {},
   "outputs": [],
   "source": [
    "def eye_aspect_ratio(eye):\n",
    "    # compute the euclidean distances between the two sets of\n",
    "    # vertical eye landmarks (x, y)-coordinates\n",
    "    A =  dlib.length(eye[1] - eye[5])\n",
    "    B =  dlib.length(eye[2] - eye[4])\n",
    " \n",
    "    # compute the euclidean distance between the horizontal\n",
    "    # eye landmark (x, y)-coordinates\n",
    "    C = dlib.length(eye[0] - eye[3]) or 100000000000000000.0\n",
    " \n",
    "    # compute the eye aspect ratio\n",
    "    ratio = (A + B) / (2.0 * C)\n",
    " \n",
    "    # return the eye aspect ratio\n",
    "    return ratio"
   ]
  },
  {
   "cell_type": "code",
   "execution_count": null,
   "metadata": {},
   "outputs": [],
   "source": [
    "FACIAL_LANDMARKS_IDXS = dict([\n",
    "    (\"mouth\", (48, 68)),\n",
    "    (\"right_eyebrow\", (17, 22)),\n",
    "    (\"left_eyebrow\", (22, 27)),\n",
    "    (\"right_eye\", (36, 42)),\n",
    "    (\"left_eye\", (42, 48)),\n",
    "    (\"nose\", (27, 35)),\n",
    "    (\"jaw\", (0, 17))\n",
    "])\n",
    "\n",
    "\n",
    "if False:\n",
    "    def eye_aspect_ratio(eye):\n",
    "        # compute the euclidean distances between the two sets of\n",
    "        # vertical eye landmarks (x, y)-coordinates\n",
    "        A =  dlib.length(eye[1] - eye[5])\n",
    "        B =  dlib.length(eye[2] - eye[4])\n",
    "\n",
    "        # compute the euclidean distance between the horizontal\n",
    "        # eye landmark (x, y)-coordinates\n",
    "        C = dlib.length(eye[0] - eye[3]) or 100000000000000000.0\n",
    "\n",
    "        # compute the eye aspect ratio\n",
    "        ratio = (A + B) / (2.0 * C)\n",
    "\n",
    "        # return the eye aspect ratio\n",
    "        return ratio\n",
    "\n",
    "def max_eye_aspect_ratio(faces):\n",
    "    max_ratio = 0\n",
    "    for face in faces:\n",
    "        for part in (\"left_eye\", \"right_eye\"):\n",
    "            start, end = FACIAL_LANDMARKS_IDXS[part]\n",
    "            eye = face.parts()[start:end]\n",
    "            ratio = eye_aspect_ratio(eye)\n",
    "            max_ratio = max([ratio, max_ratio])\n",
    "    return max_ratio\n",
    "\n",
    "@lru_cache(maxsize=1000_000)\n",
    "def eye_score_for_file(filename):\n",
    "    return max_eye_aspect_ratio(detect_with_fallbacks(filename))"
   ]
  },
  {
   "cell_type": "code",
   "execution_count": null,
   "metadata": {},
   "outputs": [],
   "source": [
    "def all_valid(face, shape):\n",
    "    y, x, *_channels = shape\n",
    "    return all((0 < point.x < x and 0 < point.y < y) for point in face.parts())\n",
    "\n",
    "@lru_cache(maxsize=1000_000)\n",
    "def get_shape(filename):\n",
    "    net = initOpenCVDnn()\n",
    "    img = cv2.imread(filename)\n",
    "    return img.shape\n",
    "\n",
    "def max_face_size(faces, shape):\n",
    "    max_size = 0\n",
    "    for face in faces:\n",
    "        if not all_valid(face, shape):\n",
    "            continue\n",
    "        parts = face.parts()\n",
    "        size = 0\n",
    "        size += dlib.length(parts[1] - parts[17])\n",
    "        size += dlib.length(parts[2] - parts[16])\n",
    "        size += dlib.length(parts[3] - parts[15])\n",
    "        max_size = max([size, max_size])\n",
    "    return max_size\n",
    "\n",
    "@lru_cache(maxsize=1000_000)\n",
    "def face_score_for_file(filename):\n",
    "    (y, x, *_channels) = shape = get_shape(filename)\n",
    "    return max_face_size(detect_with_fallbacks(filename), shape) / (y + x)\n",
    "    "
   ]
  },
  {
   "cell_type": "code",
   "execution_count": 409,
   "metadata": {},
   "outputs": [],
   "source": [
    "def detected_filename(filename):\n",
    "    return filename\\\n",
    "        .replace('.jpeg', '.jpg')\\\n",
    "        .replace('.jpg', '.detected.jpg')\\\n",
    "        .replace('.jpg.jpg', '.jpg')\n",
    "\n",
    "\n",
    "@lru_cache(maxsize=1000_000)\n",
    "def save_face_chip(filename):\n",
    "    faces = detect_with_fallbacks(filename)\n",
    "    if not len(faces):\n",
    "        return filename\n",
    "\n",
    "    img = dlib.load_rgb_image(filename)\n",
    "    faces = only_valid(faces, img.shape)\n",
    "    if not len(faces):\n",
    "        return filename\n",
    "    scores = [max_eye_aspect_ratio([face]) for face in faces]\n",
    "\n",
    "    best_face = max(zip(scores, enumerate(faces)))[-1][-1]\n",
    "    \n",
    "    for part in (\"left_eye\", \"right_eye\"):\n",
    "        start, end = FACIAL_LANDMARKS_IDXS[part]\n",
    "        eye = best_face.parts()[start:end]\n",
    "        for pointa, pointb in zip(eye, list(eye[1:])+list(eye[:1])):\n",
    "            cv2.line(img, (pointa.x, pointa.y),(pointb.x, pointb.y), (255,0,255), 5)\n",
    "#     dlib.save_image(img, filename.replace('.jpeg', '.detected.jpg'))\n",
    "    dlib.save_face_chip(img, best_face, detected_filename(filename)[:-4])\n",
    "    return detected_filename(filename)\n"
   ]
  },
  {
   "cell_type": "code",
   "execution_count": 12,
   "metadata": {},
   "outputs": [],
   "source": [
    "@lru_cache(maxsize=1000_000)\n",
    "def save_broken_face_chip(filename):\n",
    "    faces = only_invalid(detect_with_fallbacks(filename))\n",
    "    scores = [max_eye_aspect_ratio([face]) for face in faces]\n",
    "    if len(faces):\n",
    "        best_face = max(zip(scores, enumerate(faces)))[-1][-1]\n",
    "        img = dlib.load_rgb_image(filename)\n",
    "        dlib.save_face_chip(img, best_face, filename.replace('.jpeg', '.jpg').replace('.jpg', '.funky'))\n",
    "        return filename.replace('.jpeg', '.jpg').replace('.jpg', '.funky.jpg')\n",
    "    return filename"
   ]
  },
  {
   "cell_type": "code",
   "execution_count": 135,
   "metadata": {},
   "outputs": [],
   "source": [
    "broken_filenames={}"
   ]
  },
  {
   "cell_type": "code",
   "execution_count": 405,
   "metadata": {},
   "outputs": [
    {
     "data": {
      "application/vnd.jupyter.widget-view+json": {
       "model_id": "9efa60364db84035be4aec552a62ef73",
       "version_major": 2,
       "version_minor": 0
      },
      "text/plain": [
       "HBox(children=(FloatProgress(value=0.0, max=55518.0), HTML(value='')))"
      ]
     },
     "metadata": {},
     "output_type": "display_data"
    },
    {
     "name": "stdout",
     "output_type": "stream",
     "text": [
      "\n"
     ]
    }
   ],
   "source": [
    "# faces_folder_path = f'{HOME}/tmp/*x*/*/*.mp4.images/'\n",
    "faces_folder_path = f'{HOME}/src/eye-tracking/thumbs-mostviewed/*/'\n",
    "\n",
    "@lru_cache(maxsize=1)\n",
    "def get_filenames():\n",
    "    return list(\n",
    "        f for f in sorted(glob.glob(os.path.join(faces_folder_path, \"*.jpg\")))\n",
    "        if '/tmp/3840x1920/1.mp4' not in f\n",
    "        and 'detected' not in f\n",
    "        and '.jpg.jpg' not in f\n",
    "    #     and '1920x1080/1080P_4000K_236777331.mp4' in f\n",
    "    )\n",
    "\n",
    "def warm_caches(step=1, smoke=False):\n",
    "    start = time.time()\n",
    "    for filename in tqdm.notebook.tqdm(get_filenames()[::step]): #[126:][:1]:\n",
    "        try:\n",
    "            shapes = detect_with_fallbacks(filename)\n",
    "            if len(shapes) and 0.5 > eye_score_for_file(filename) > 0.25:\n",
    "                save_face_chip(filename)\n",
    "        except (AttributeError, ZeroDivisionError, TypeError, ValueError) as e:\n",
    "            broken_filenames[filename] = e\n",
    "        else:\n",
    "            if smoke and time.time() - start > 10:\n",
    "                break\n",
    "           \n",
    "\n",
    "def warm_caches_backwards():\n",
    "    warm_caches(-1)\n",
    "    \n",
    "warm_caches(smoke=True) \n",
    "\n",
    "# jobs.new(warm_caches)\n",
    "# jobs.new(warm_caches_backwards)\n"
   ]
  },
  {
   "cell_type": "code",
   "execution_count": 232,
   "metadata": {},
   "outputs": [
    {
     "data": {
      "application/vnd.jupyter.widget-view+json": {
       "model_id": "1c6283e208df460bab2045b75e10a823",
       "version_major": 2,
       "version_minor": 0
      },
      "text/plain": [
       "HBox(children=(FloatProgress(value=0.0, max=55518.0), HTML(value='')))"
      ]
     },
     "metadata": {},
     "output_type": "display_data"
    },
    {
     "data": {
      "application/vnd.jupyter.widget-view+json": {
       "model_id": "7d015c5954a345b8bbc3cdb4c472bee4",
       "version_major": 2,
       "version_minor": 0
      },
      "text/plain": [
       "HBox(children=(FloatProgress(value=0.0, max=55518.0), HTML(value='')))"
      ]
     },
     "metadata": {},
     "output_type": "display_data"
    },
    {
     "data": {
      "text/plain": [
       "<BackgroundJob #38: <function warm_caches_backwards at 0x1439f24d0>>"
      ]
     },
     "execution_count": 232,
     "metadata": {},
     "output_type": "execute_result"
    },
    {
     "name": "stdout",
     "output_type": "stream",
     "text": [
      "\n",
      "\n"
     ]
    }
   ],
   "source": [
    "\" warm_caches \" in str(jobs.running) or jobs.new(warm_caches)\n",
    "\" warm_caches_backwards \" in str(jobs.running) or jobs.new(warm_caches_backwards)\n"
   ]
  },
  {
   "cell_type": "code",
   "execution_count": 439,
   "metadata": {},
   "outputs": [
    {
     "data": {
      "application/vnd.jupyter.widget-view+json": {
       "model_id": "c95e4a62ca0c47939739a97bc28171c1",
       "version_major": 2,
       "version_minor": 0
      },
      "text/plain": [
       "HBox(children=(FloatProgress(value=0.0, max=55518.0), HTML(value='')))"
      ]
     },
     "metadata": {},
     "output_type": "display_data"
    },
    {
     "data": {
      "text/plain": [
       "<BackgroundJob #51: <function warm_caches_backwards at 0x14ca80290>>"
      ]
     },
     "execution_count": 439,
     "metadata": {},
     "output_type": "execute_result"
    },
    {
     "data": {
      "application/vnd.jupyter.widget-view+json": {
       "model_id": "9964d405e09a4ce6a5b6e8a5d86807a9",
       "version_major": 2,
       "version_minor": 0
      },
      "text/plain": [
       "HBox(children=(FloatProgress(value=0.0, max=55518.0), HTML(value='')))"
      ]
     },
     "metadata": {},
     "output_type": "display_data"
    },
    {
     "name": "stdout",
     "output_type": "stream",
     "text": [
      "\n",
      "\n"
     ]
    }
   ],
   "source": [
    "\" warm_caches \" in str(jobs.running) or jobs.new(warm_caches)\n",
    "\" warm_caches_backwards \" in str(jobs.running) or jobs.new(warm_caches_backwards)\n"
   ]
  },
  {
   "cell_type": "code",
   "execution_count": 156,
   "metadata": {},
   "outputs": [
    {
     "data": {
      "application/vnd.jupyter.widget-view+json": {
       "model_id": "658fc8f8ff5747d7ad15a0a3d5043dea",
       "version_major": 2,
       "version_minor": 0
      },
      "text/plain": [
       "HBox(children=(FloatProgress(value=0.0, max=53770.0), HTML(value='')))"
      ]
     },
     "metadata": {},
     "output_type": "display_data"
    },
    {
     "name": "stdout",
     "output_type": "stream",
     "text": [
      "\n",
      "\n"
     ]
    }
   ],
   "source": [
    "warm_caches_backwards()\n"
   ]
  },
  {
   "cell_type": "code",
   "execution_count": 34,
   "metadata": {},
   "outputs": [
    {
     "data": {
      "application/vnd.jupyter.widget-view+json": {
       "model_id": "84e0099a19114e46a581441a0e8d485e",
       "version_major": 2,
       "version_minor": 0
      },
      "text/plain": [
       "interactive(children=(IntSlider(value=149, description='x', max=298, min=1), Output()), _dom_classes=('widget-…"
      ]
     },
     "metadata": {},
     "output_type": "display_data"
    }
   ],
   "source": [
    "def get_face_filenames():\n",
    "    return list(\n",
    "        sorted(\n",
    "            [\n",
    "                filename for filename in get_filenames()\n",
    "                if True\n",
    "    #             and ('1920x1080'  in filename)\n",
    "                and 0.5 > eye_score_for_file(filename) > 0.25 \n",
    "\n",
    "    #             and '1920x1080/1080P_4000K_236777331.mp4' in filename\n",
    "    #             and only_invalid(detect_with_fallbacks(filename))\n",
    "            ],\n",
    "    #         key=face_score_for_file,\n",
    "        )\n",
    "    )\n",
    "\n",
    "def show_face(x):\n",
    "    filename = get_face_filenames()[x]\n",
    "    facename = detected_filename(filename)\n",
    "    shapes = detect_with_fallbacks(filename)\n",
    "    print(len(shapes), len(detect(filename)), filename.replace(HOME, '~'))\n",
    "    print(eye_score_for_file(filename))\n",
    "    print(face_score_for_file(filename))\n",
    "    \n",
    "    if len(shapes):\n",
    "        print([s for (s,_) in detect_dnn_with_scores(filename)])\n",
    "        filename = save_face_chip(filename)\n",
    "    widget = IPython.core.display.Image(filename=filename)\n",
    "    return widget\n",
    "\n",
    "maxf = len(get_face_filenames()) - 1\n",
    "wg.interact(show_face, x=(1,maxf));\n"
   ]
  },
  {
   "cell_type": "code",
   "execution_count": 16,
   "metadata": {},
   "outputs": [
    {
     "data": {
      "text/plain": [
       "(299, 1344)"
      ]
     },
     "execution_count": 16,
     "metadata": {},
     "output_type": "execute_result"
    }
   ],
   "source": [
    "len(get_face_filenames()) , len(get_filenames())"
   ]
  },
  {
   "cell_type": "code",
   "execution_count": 457,
   "metadata": {},
   "outputs": [],
   "source": [
    "from collections import Counter\n",
    "totals_breakdown = Counter(filename.rsplit('/', 1)[0] for filename in get_filenames() )\n",
    "# totals_breakdown\n",
    "\n",
    "faces_breakdown = Counter(filename.rsplit('/', 1)[0] for filename in get_face_filenames() )\n",
    "# faces_breakdown\n",
    "\n",
    "best = sorted([\n",
    "        (faces_breakdown[k]/totals_breakdown[k], k.replace('.images/', '.hls/out.m3u8').replace(HOME, '~'))\n",
    "        for k in totals_breakdown.keys()\n",
    "        if totals_breakdown[k] > 5\n",
    "    ], reverse=True)\n",
    "# best"
   ]
  },
  {
   "cell_type": "code",
   "execution_count": null,
   "metadata": {},
   "outputs": [],
   "source": [
    "faces = [\n",
    "    (filename, face)\n",
    "    for filename in face_filenames\n",
    "#         if ('1920x1080/1080P_4000K_236777331.mp4' in filename)\n",
    "            for face in detect_with_fallbacks(filename)\n",
    "#                 if not any((point.x < 1920 and point.y < 1080) for point in face.parts())\n",
    "]\n"
   ]
  },
  {
   "cell_type": "code",
   "execution_count": null,
   "metadata": {},
   "outputs": [],
   "source": [
    "pyplot.figure()\n",
    "for filename, face in faces:\n",
    "    points = [\n",
    "        (point.x, -point.y)\n",
    "        for point in face.parts()\n",
    "    ]\n",
    "    pyplot.scatter(*zip(*points), label=filename.replace(HOME, '~'))\n",
    "# pyplot.legend()"
   ]
  },
  {
   "cell_type": "code",
   "execution_count": null,
   "metadata": {},
   "outputs": [],
   "source": [
    "pyplot.figure()\n",
    "eyes = [\n",
    "    (\n",
    "        eye_score_for_file(filename),\n",
    "        max((i for (i, _) in detect_dnn_with_scores(filename)), default=0)\n",
    "    )\n",
    "    for (i, filename) in enumerate(files)\n",
    "    if 'Beertje96' in filename\n",
    "]\n",
    "pyplot.plot(eyes, linestyle='', marker='.')\n",
    "pyplot.legend()"
   ]
  },
  {
   "cell_type": "code",
   "execution_count": null,
   "metadata": {},
   "outputs": [],
   "source": [
    "pyplot.plot?\n"
   ]
  },
  {
   "cell_type": "code",
   "execution_count": null,
   "metadata": {},
   "outputs": [],
   "source": [
    "max?"
   ]
  },
  {
   "cell_type": "code",
   "execution_count": null,
   "metadata": {},
   "outputs": [],
   "source": [
    "len(face.parts())\n"
   ]
  },
  {
   "cell_type": "code",
   "execution_count": 397,
   "metadata": {},
   "outputs": [
    {
     "data": {
      "text/plain": [
       "[]"
      ]
     },
     "execution_count": 397,
     "metadata": {},
     "output_type": "execute_result"
    }
   ],
   "source": [
    "[j.join() for j in jobs.running]"
   ]
  },
  {
   "cell_type": "code",
   "execution_count": 164,
   "metadata": {},
   "outputs": [
    {
     "data": {
      "image/png": "[encoded data removed]",
      "text/plain": [
       "<Figure size 2160x720 with 1 Axes>"
      ]
     },
     "metadata": {
      "needs_background": "light"
     },
     "output_type": "display_data"
    }
   ],
   "source": [
    "def plot_hits_by_category():\n",
    "    pyplot.figure(figsize=(30,10))\n",
    "\n",
    "    totals = []\n",
    "    faces = []\n",
    "    labels = []\n",
    "    to_plot = []\n",
    "    for folder in glob.glob(faces_folder_path):\n",
    "        category = folder.rsplit('/')[-2]\n",
    "    #     print(category)\n",
    "        total = len([f for f in get_filenames() if folder in f])\n",
    "        if total > 500:\n",
    "            totals.append(total)\n",
    "            face_count = len([f for f in get_face_filenames() if folder in f])\n",
    "            faces.append(face_count)\n",
    "            labels.append(category)\n",
    "            to_plot.append((face_count / total, category))\n",
    "\n",
    "    height, labels = zip(*sorted(to_plot))\n",
    "    # bars = labels\n",
    "    # height = faces\n",
    "    y_pos = numpy.arange(len(labels))\n",
    "\n",
    "    # pyplot.scatter(totals, faces)\n",
    "    pyplot.bar(y_pos, height)\n",
    "    pyplot.xticks(y_pos, labels, rotation=-90)\n",
    "\n",
    "plot_hits_by_category()\n",
    "    "
   ]
  },
  {
   "cell_type": "code",
   "execution_count": 234,
   "metadata": {},
   "outputs": [
    {
     "data": {
      "image/png": "[encoded data removed]",
      "text/plain": [
       "<Figure size 2160x720 with 1 Axes>"
      ]
     },
     "metadata": {
      "needs_background": "light"
     },
     "output_type": "display_data"
    }
   ],
   "source": [
    "plot_hits_by_category()\n"
   ]
  },
  {
   "cell_type": "code",
   "execution_count": 233,
   "metadata": {},
   "outputs": [],
   "source": [
    "def debug_thing():\n",
    "    totals = []\n",
    "    faces = []\n",
    "    labels = []\n",
    "    to_plot = []\n",
    "    for folder in glob.glob(faces_folder_path):\n",
    "        category = folder.rsplit('/')[-2]\n",
    "    #     print(category)\n",
    "        total = len([f for f in get_filenames() if folder in f])\n",
    "        if total < 500:\n",
    "            print(category, total)\n",
    "            \n",
    "debug_thing()\n"
   ]
  },
  {
   "cell_type": "code",
   "execution_count": 459,
   "metadata": {},
   "outputs": [
    {
     "data": {
      "image/png": "[encoded data removed]",
      "text/plain": [
       "<Figure size 2160x720 with 1 Axes>"
      ]
     },
     "metadata": {
      "needs_background": "light"
     },
     "output_type": "display_data"
    }
   ],
   "source": [
    "def get_thumbname(url):\n",
    "    thumbname = url.rsplit('/')[-1]\n",
    "    return thumbname.rsplit(')', 1)[0] + ')'\n",
    "\n",
    "def get_hit_per_video_per_category():\n",
    "    videos_by_category: 'dict[category, dict[videoname, struct[hit, total]]]' = {}\n",
    "    filenames = get_filenames()\n",
    "    face_filenames = get_face_filenames()\n",
    "    \n",
    "    for filename in get_filenames():\n",
    "        category = filename.rsplit('/')[-2]\n",
    "        thumbname = filename.rsplit('/')[-1]\n",
    "        videoname = thumbname.rsplit(')', 1)[0] + ')'\n",
    "        videos = videos_by_category.setdefault(category, {})\n",
    "        counts = videos.setdefault(videoname, {\"hit\": 0, \"total\": 0, \"sizes\": []})\n",
    "        counts[\"total\"] += 1\n",
    "        \n",
    "    for filename in get_face_filenames():\n",
    "        category = filename.rsplit('/')[-2]\n",
    "        thumbname = filename.rsplit('/')[-1]\n",
    "        videoname = thumbname.rsplit(')', 1)[0] + ')'\n",
    "        videos = videos_by_category.setdefault(category, {})\n",
    "        counts = videos.setdefault(videoname, {\"hit\": 0, \"total\": 0, \"sizes\": []})\n",
    "        counts[\"hit\"] += 1\n",
    "        counts['sizes'].append(face_score_for_file(filename))\n",
    "    return videos_by_category\n",
    "\n",
    "def get_stats_per_category():\n",
    "    stats_by_category = {}\n",
    "    videos_by_category = get_hit_per_video_per_category()\n",
    "    for category, videos in videos_by_category.items():\n",
    "        stats = [\n",
    "            size / counts[\"total\"]\n",
    "            for counts in videos.values()\n",
    "                if counts[\"total\"] > 10\n",
    "                    for size in counts[\"sizes\"]\n",
    "        ]\n",
    "        stats_by_category[category] = stats\n",
    "#     print(sorted([(t['size'], k) for (k, t) in videos_by_category['Behind The Scenes'].items()]))\n",
    "        \n",
    "    stats_by_category = {\n",
    "        category: values\n",
    "        for (_, values, category) in\n",
    "        sorted([\n",
    "            (numpy.median(values), values, category) for (category, values) in stats_by_category.items()\n",
    "        ])\n",
    "    }\n",
    "    return stats_by_category\n",
    "\n",
    "def box_plot_of_hit_per_video_per_category():\n",
    "    fig = pyplot.figure(figsize=(30,10))\n",
    "    ax = fig.subplots()\n",
    "    \n",
    "\n",
    "    stats = get_stats_per_category()\n",
    "    ax.boxplot(stats.values(), labels=stats.keys())\n",
    "    locs, labels = pyplot.xticks()\n",
    "    pyplot.xticks(locs, labels, rotation=-90)\n",
    "    \n",
    "    \n",
    "\n",
    "box_plot_of_hit_per_video_per_category()"
   ]
  },
  {
   "cell_type": "code",
   "execution_count": 470,
   "metadata": {},
   "outputs": [],
   "source": [
    "def get_best_videos(category):\n",
    "    stats = get_hit_per_video_per_category()\n",
    "    flat = {}\n",
    "    for cat, videos in stats.items():\n",
    "        for name, counts in videos.items():\n",
    "            if counts[\"total\"] > 10 and (category is None or cat == category):\n",
    "                flat.setdefault(name, []).extend([sum(counts[\"sizes\"]) / counts[\"total\"], cat])\n",
    "    \n",
    "    return {\n",
    "        name: score\n",
    "        for score, name in \n",
    "        sorted(\n",
    "            ((score, name) for (name, score) in flat.items()),\n",
    "            reverse=True\n",
    "        )\n",
    "    }\n",
    "\n",
    "# get_best_videos('Behind The Scenes')"
   ]
  },
  {
   "cell_type": "code",
   "execution_count": 236,
   "metadata": {},
   "outputs": [],
   "source": []
  },
  {
   "cell_type": "code",
   "execution_count": 242,
   "metadata": {},
   "outputs": [],
   "source": [
    "import sys\n",
    "'./youtube-dl/' in sys.path or sys.path.append('./youtube-dl/')\n",
    "import youtube_dl.extractor.pornhub as ph"
   ]
  },
  {
   "cell_type": "code",
   "execution_count": 506,
   "metadata": {},
   "outputs": [],
   "source": [
    "import os\n",
    "\n",
    "def to_keyframe_filename(ts_filename):\n",
    "    return ts_filename.strip().replace(\n",
    "        'segment', 'keyframe'\n",
    "    ).replace(\n",
    "        '.hls/', '.images/'\n",
    "    ).replace(\n",
    "        '.ts', '.jpeg'\n",
    "    )\n",
    "\n",
    "def get_ts_filenames(original_playlist_filename):\n",
    "    with open(original_playlist_filename) as f:\n",
    "        lines = iter(list(f))\n",
    "    \n",
    "    # take until first #EXTINF\n",
    "    for line in lines:\n",
    "        if line.startswith('#EXTINF'):\n",
    "            break\n",
    "    \n",
    "    seen_extinf = True\n",
    "    files = []\n",
    "    for line in lines:\n",
    "        if seen_extinf:\n",
    "            seen_extinf = False\n",
    "            \n",
    "            files.append(\n",
    "                original_playlist_filename.replace(\n",
    "                    'out.m3u8', \n",
    "                    line.strip()\n",
    "                )\n",
    "            )\n",
    "        elif line.startswith('#EXTINF'):\n",
    "            seen_extinf = True\n",
    "        elif line.startswith('#EXT-X-ENDLIST'):\n",
    "            break\n",
    "        else:\n",
    "            print(line)\n",
    "            raise ValueError(f'{line} does not follow #EXTINF')\n",
    "    return files\n",
    "    \n",
    "def make_filtered_playlist(\n",
    "    original_playlist_filename,\n",
    "    filter_function,\n",
    "    output_filename='filtered.m3u8',\n",
    "):\n",
    "    out = []\n",
    "    chunks: Tuple[str, str] = []\n",
    "    chunk_start: Optional[str] = None\n",
    "    with open(original_playlist_filename) as f:\n",
    "        lines = iter(list(f))\n",
    "\n",
    "    for line in lines:\n",
    "        if line.startswith('#EXTINF'):\n",
    "            chunk_start = line\n",
    "            break\n",
    "        out.append(line)\n",
    "\n",
    "    for line in lines:\n",
    "        if chunk_start is not None:\n",
    "            chunks.append((chunk_start, line))\n",
    "            chunk_start = None\n",
    "        elif line.startswith('#EXTINF'):\n",
    "            chunk_start = line\n",
    "        else:\n",
    "            # really I should use a peekable iterator, or put line back on\n",
    "            # the front of lines, but nevermind.\n",
    "            trailing_line = line\n",
    "            break\n",
    "    else:\n",
    "        trailing_line = ''\n",
    "\n",
    "    chunks = [\n",
    "        chunk\n",
    "        for chunk in chunks\n",
    "        if filter_function(\n",
    "            original_playlist_filename.replace(\n",
    "                '.hls/out.m3u8', \n",
    "                '.images/' + to_keyframe_filename(chunk[-1])\n",
    "            )\n",
    "        )\n",
    "    ]\n",
    "\n",
    "    for chunk in chunks:\n",
    "        out.extend(chunk)\n",
    "        # Credit to @DHE in #ffmpeg on freenode for suggesting\n",
    "        # #EXT-X-DISCONTINUITY.\n",
    "        # https://developer.apple.com/documentation/http_live_streaming/example_playlists_for_http_live_streaming/incorporating_ads_into_a_playlist\n",
    "        out.append('#EXT-X-DISCONTINUITY\\n')\n",
    "    # strip the #EXT-X-DISCONTINUITY from after the last chunk\n",
    "    out.pop()\n",
    "    out.append(trailing_line)\n",
    "\n",
    "    for line in lines:\n",
    "        out.append(line)\n",
    "\n",
    "    filtered_filename = original_playlist_filename.replace('out.m3u8', output_filename)\n",
    "    with open(filtered_filename,'w') as f:\n",
    "        f.write(''.join(out)+'\\n')\n",
    "\n",
    "    concat_filename = original_playlist_filename.replace('out.m3u8', output_filename) + '.txt'\n",
    "    with open(concat_filename,'w') as f:\n",
    "        files = [fname for (_, fname) in chunks]\n",
    "        write_concat_file(concat_filename, files)\n",
    "    return concat_filename.replace(HOME, '~')\n",
    "        \n",
    "def write_concat_file(concat_filename, files):\n",
    "    dirname = os.path.dirname(concat_filename)\n",
    "    with open(concat_filename,'w') as f:\n",
    "        for fname in files:\n",
    "            f.write(f'file {os.path.relpath(fname.strip(), start=dirname)}\\n')\n",
    "    \n",
    "def has_eye_contact(filename):\n",
    "    if not os.path.exists(filename):\n",
    "        return False\n",
    "    if 0.5 > eye_score_for_file(filename) > 0.25:\n",
    "#         print(filename)\n",
    "#         print(save_face_chip(filename))\n",
    "        return True\n",
    "    return False\n",
    "\n",
    "def has_no_eye_contact(filename):\n",
    "#     save_face_chip(filename)\n",
    "    if not os.path.exists(filename):\n",
    "        return False\n",
    "    return eye_score_for_file(filename) < 0.25\n",
    "\n",
    "# for _score, filename in best:\n",
    "#     print(make_filtered_playlist(\n",
    "#         filename.replace('~', HOME),\n",
    "#         has_eye_contact,\n",
    "#         'filtered.m3u8'\n",
    "#     ))\n",
    "#     print(make_filtered_playlist(\n",
    "#         filename.replace('~', HOME),\n",
    "#         has_no_eye_contact,\n",
    "#         'rejected.m3u8'\n",
    "#     ))"
   ]
  },
  {
   "cell_type": "code",
   "execution_count": 509,
   "metadata": {},
   "outputs": [
    {
     "data": {
      "text/plain": [
       "['~/tmp/montage-interleaved-1920x1080-Interactive.concat.mp4']"
      ]
     },
     "execution_count": 509,
     "metadata": {},
     "output_type": "execute_result"
    }
   ],
   "source": [
    "import subprocess\n",
    "\n",
    "def download_video(url):\n",
    "    outfile = f\"all-videos/{url.split('viewkey=')[-1]}.mp4\"\n",
    "    if not os.path.exists(outfile):\n",
    "        ydl = youtube_dl.YoutubeDL({\"outtmpl\": outfile, \"quiet\": True})\n",
    "        ie = ph.PornHubIE(ydl)\n",
    "        info = ie.extract(url)\n",
    "#         print([info['formats']])\n",
    "        selected = sorted([\n",
    "            (\n",
    "                f.get('height', -1),\n",
    "                f.get('format_id', '').count('hls'),\n",
    "                # python3 refuses to sort dictionaries, so use this to get a stable sort.\n",
    "                time.monotonic(),\n",
    "                f\n",
    "            )\n",
    "            for f in info['formats']\n",
    "            # One of the hls manifests is an index, with multple resolutions. Pick one that isn't that.\n",
    "            if ',' not in f.get('url', ',')\n",
    "        ])[-1][-1]\n",
    "        selected['title'] = 'UNUSED_TITLE'\n",
    "        ydl.process_info(selected)\n",
    "    return outfile\n",
    "\n",
    "# def download_video(url):\n",
    "#     infile = f\"all-videos_/{url.split('viewkey=')[-1]}.mp4\"\n",
    "#     outfile = f\"all-videos/{url.split('viewkey=')[-1]}.mp4\"\n",
    "#     if os.path.exists(outfile):\n",
    "#         pass\n",
    "#     elif os.path.exists(infile):\n",
    "#         os.rename(infile, outfile)\n",
    "#     return outfile\n",
    "\n",
    "def video_lookup_dict(category):\n",
    "    result = {}\n",
    "    with open(f'mostviewed/{category}/more-info.txt') as f:\n",
    "        \n",
    "        for line in f:\n",
    "            line = line.strip()\n",
    "            path, thumb, _count = line.split('§')\n",
    "            result[get_thumbname(thumb)] = 'https://pornhub.com' + path\n",
    "    return result        \n",
    "    \n",
    "def download_best(category):\n",
    "    lookup = video_lookup_dict(category)\n",
    "    best = list(get_best_videos(category).keys())[:10]\n",
    "    outfiles = []\n",
    "    for thumbname in best:\n",
    "        url = lookup[thumbname]\n",
    "        outfile = download_video(url)\n",
    "        outfiles.append(outfile)\n",
    "    return outfiles\n",
    "\n",
    "def expand_video(downloaded_video_filename):\n",
    "    subprocess.check_call(['./expand-videos.sh', './', f'{HOME}/tmp', downloaded_video_filename])\n",
    "    thumbdir = glob.glob(f'{HOME}/tmp/*/{downloaded_video_filename}.images')[0]\n",
    "    return thumbdir.replace('.images', '.hls/out.m3u8')\n",
    "\n",
    "def filter_expanded(expanded_playlist):\n",
    "    playlist = make_filtered_playlist(\n",
    "        expanded_playlist,\n",
    "        has_eye_contact,\n",
    "        'filtered.m3u8'\n",
    "    )\n",
    "    return playlist\n",
    "\n",
    "def make_montage(category):\n",
    "    downloaded = download_best(category)\n",
    "    playlists = []\n",
    "    for downloaded_video_filename in downloaded:\n",
    "        expanded_playlist = expand_video(downloaded_video_filename)\n",
    "        filtered_playlist = filter_expanded(expanded_playlist)\n",
    "    \n",
    "        playlists.append(filtered_playlist) \n",
    "    return playlists\n",
    "\n",
    "def collapse_montage(concat_filename):\n",
    "    collapsed_filename = concat_filename.replace('.txt', '.concat.mp4')\n",
    "    if not os.path.exists(collapsed_filename.replace('~', HOME)):\n",
    "        subprocess.check_call([\n",
    "            'ffmpeg',\n",
    "            '-nostdin',\n",
    "            '-f', 'concat',\n",
    "            '-i', concat_filename.replace('~', HOME),\n",
    "            '-c', 'copy',\n",
    "            '-flags', '+cgop',\n",
    "            collapsed_filename.replace('~', HOME)\n",
    "        ])\n",
    "    return collapsed_filename\n",
    "\n",
    "def get_queue_from_playlist(input_playlist): # -> Tuple[float, 'filename']:\n",
    "    segments = get_ts_filenames(input_playlist)\n",
    "    count = len(segments)\n",
    "    result = []\n",
    "    for i, file in enumerate(segments):\n",
    "#         print(to_keyframe_filename(file))\n",
    "        if has_eye_contact(to_keyframe_filename(file)):\n",
    "            result.append((i/count, file))\n",
    "        \n",
    "    return result\n",
    "        \n",
    "def make_interleaved_montages(category):\n",
    "    downloaded = download_best(category)\n",
    "    queues_by_resolution = {}\n",
    "    for downloaded_video_filename in downloaded:\n",
    "#         print(downloaded_video_filename)\n",
    "        expanded_playlist = expand_video(downloaded_video_filename)\n",
    "        resolution = expanded_playlist.split('/tmp/')[1].split('/')[0]\n",
    "        queues = queues_by_resolution.setdefault(resolution, [])\n",
    "        queues.append(get_queue_from_playlist(expanded_playlist))\n",
    "    \n",
    "#     print(sorted([(len(q), res) for (res, q) in queues_by_resolution.items()]))\n",
    "    montages = []\n",
    "    for resolution, queues in queues_by_resolution.items():\n",
    "        files = [file for (_score, file) in sorted(sum(queues, []))]\n",
    "\n",
    "        concat_filename = f'{HOME}/tmp/montage-interleaved-{resolution}-{category}.txt'\n",
    "    \n",
    "        write_concat_file(concat_filename, files)\n",
    "        result = collapse_montage(concat_filename)\n",
    "        montages.append(result.replace(HOME, '~'))\n",
    "        \n",
    "    return montages\n",
    "        \n",
    "# get_queue_from_playlist(f'{HOME}/tmp/1920x1080/all-videos/ph5c3a8b35b9b84.mp4.hls/out.m3u8')\n",
    "\n",
    "make_interleaved_montages('Interactive')\n",
    "# try:\n",
    "#     [make_montage(c) for c in cats[:5]]\n",
    "# except Exception as e:\n",
    "#     print(e)    \n",
    "#     raise\n",
    "# ' && ffplay '.join(make_montage('Striptease'))"
   ]
  },
  {
   "cell_type": "code",
   "execution_count": null,
   "metadata": {},
   "outputs": [],
   "source": []
  },
  {
   "cell_type": "code",
   "execution_count": 489,
   "metadata": {},
   "outputs": [],
   "source": [
    "\n",
    "# [print(f\"{cat}\\nvlc {' '.join([collapse_montage(f) for f in make_montage(cat)])} vlc://quit\") for cat in cats[:10]]"
   ]
  },
  {
   "cell_type": "code",
   "execution_count": null,
   "metadata": {},
   "outputs": [],
   "source": []
  },
  {
   "cell_type": "code",
   "execution_count": 471,
   "metadata": {},
   "outputs": [
    {
     "data": {
      "text/plain": [
       "['Bukkake',\n",
       " 'Hentai',\n",
       " 'Interactive',\n",
       " 'Vintage',\n",
       " 'Russian',\n",
       " 'Creampie',\n",
       " 'Cosplay',\n",
       " 'Music',\n",
       " 'Cartoon']"
      ]
     },
     "execution_count": 471,
     "metadata": {},
     "output_type": "execute_result"
    },
    {
     "name": "stdout",
     "output_type": "stream",
     "text": [
      "ERROR! Session/line number was not unique in database. History logging moved to new session 89\n"
     ]
    }
   ],
   "source": [
    "cats\n"
   ]
  },
  {
   "cell_type": "code",
   "execution_count": 371,
   "metadata": {},
   "outputs": [
    {
     "name": "stdout",
     "output_type": "stream",
     "text": [
      "\n"
     ]
    }
   ],
   "source": [
    "try: \n",
    "    [j.join() for j in jobs.running]\n",
    "finally:\n",
    "    print('\\n'*0)"
   ]
  },
  {
   "cell_type": "code",
   "execution_count": null,
   "metadata": {},
   "outputs": [],
   "source": []
  },
  {
   "cell_type": "code",
   "execution_count": null,
   "metadata": {},
   "outputs": [],
   "source": [
    "\n"
   ]
  },
  {
   "cell_type": "code",
   "execution_count": 367,
   "metadata": {},
   "outputs": [
    {
     "data": {
      "text/plain": [
       "[]"
      ]
     },
     "execution_count": 367,
     "metadata": {},
     "output_type": "execute_result"
    }
   ],
   "source": [
    "jobs.running"
   ]
  },
  {
   "cell_type": "code",
   "execution_count": null,
   "metadata": {},
   "outputs": [],
   "source": []
  },
  {
   "cell_type": "code",
   "execution_count": 386,
   "metadata": {},
   "outputs": [
    {
     "data": {
      "text/plain": [
       "1"
      ]
     },
     "execution_count": 386,
     "metadata": {},
     "output_type": "execute_result"
    }
   ],
   "source": [
    "1\n"
   ]
  },
  {
   "cell_type": "code",
   "execution_count": 462,
   "metadata": {},
   "outputs": [],
   "source": [
    "cats = list(get_stats_per_category().keys())[:-10:-1]"
   ]
  },
  {
   "cell_type": "code",
   "execution_count": 473,
   "metadata": {},
   "outputs": [
    {
     "name": "stdout",
     "output_type": "stream",
     "text": [
      "Bukkake 1\n",
      "ERROR! Session/line number was not unique in database. History logging moved to new session 90\n",
      "Hentai 1\n",
      "Interactive 1\n",
      "Vintage 1\n",
      "[PornHub] ph5bc17a8c63139: Downloading pc webpage\n",
      "[PornHub] ph5bc17a8c63139: Downloading m3u8 information\n",
      "[PornHub] ph5bc17a8c63139: Downloading m3u8 information\n",
      "[PornHub] ph5bc17a8c63139: Downloading m3u8 information\n",
      "[PornHub] ph5bc17a8c63139: Downloading m3u8 information\n",
      "[PornHub] ph5bc17a8c63139: Downloading m3u8 information\n",
      "[hlsnative] Downloading m3u8 manifest\n",
      "[hlsnative] Total fragments: 1795\n",
      "[download] Destination: all-videos/ph5bc17a8c63139.mp4\n",
      "[download] 100% of 1.66GiB in 02:22.93MiB/s ETA 00:00147:47\n",
      "[ffmpeg] Fixing malformed AAC bitstream in \"all-videos/ph5bc17a8c63139.mp4\"\n",
      "[PornHub] ph5c72ef8b05213: Downloading pc webpage\n",
      "[PornHub] ph5c72ef8b05213: Downloading m3u8 information\n",
      "[PornHub] ph5c72ef8b05213: Downloading m3u8 information\n",
      "[PornHub] ph5c72ef8b05213: Downloading m3u8 information\n",
      "[PornHub] ph5c72ef8b05213: Downloading m3u8 information\n",
      "[hlsnative] Downloading m3u8 manifest\n",
      "[hlsnative] Total fragments: 1291\n",
      "[download] Destination: all-videos/ph5c72ef8b05213.mp4\n",
      "[download]   0.2% of ~604.12MiB at  2.83MiB/s ETA 06:32112:31"
     ]
    },
    {
     "name": "stderr",
     "output_type": "stream",
     "text": [
      "ERROR: giving up after 0 retries\n"
     ]
    },
    {
     "name": "stdout",
     "output_type": "stream",
     "text": [
      "fail Vintage 1 ERROR: giving up after 0 retries\n",
      "Vintage 2\n",
      "[PornHub] ph5c72ef8b05213: Downloading pc webpage\n",
      "[PornHub] ph5c72ef8b05213: Downloading m3u8 information\n",
      "[PornHub] ph5c72ef8b05213: Downloading m3u8 information\n",
      "[PornHub] ph5c72ef8b05213: Downloading m3u8 information\n",
      "[PornHub] ph5c72ef8b05213: Downloading m3u8 information\n",
      "[hlsnative] Downloading m3u8 manifest\n",
      "[hlsnative] Total fragments: 1291\n",
      "[download] Destination: all-videos/ph5c72ef8b05213.mp4\n",
      "[download] 100% of 556.22MiB in 06:34.16MiB/s ETA 00:003749\n",
      "[ffmpeg] Fixing malformed AAC bitstream in \"all-videos/ph5c72ef8b05213.mp4\"\n",
      "[PornHub] ph597caba2ca045: Downloading pc webpage\n",
      "[PornHub] ph597caba2ca045: Downloading m3u8 information\n",
      "[PornHub] ph597caba2ca045: Downloading m3u8 information\n",
      "[PornHub] ph597caba2ca045: Downloading m3u8 information\n",
      "[PornHub] ph597caba2ca045: Downloading m3u8 information\n",
      "[hlsnative] Downloading m3u8 manifest\n",
      "[hlsnative] Total fragments: 414\n",
      "[download] Destination: all-videos/ph597caba2ca045.mp4\n",
      "[download]  56.5% of ~140.42MiB at  2.49MiB/s ETA 01:03480:43"
     ]
    },
    {
     "name": "stderr",
     "output_type": "stream",
     "text": [
      "ERROR: giving up after 0 retries\n"
     ]
    },
    {
     "name": "stdout",
     "output_type": "stream",
     "text": [
      "fail Vintage 2 ERROR: giving up after 0 retries\n",
      "Vintage 3\n",
      "[PornHub] ph597caba2ca045: Downloading pc webpage\n",
      "[PornHub] ph597caba2ca045: Downloading m3u8 information\n",
      "[PornHub] ph597caba2ca045: Downloading m3u8 information\n",
      "[PornHub] ph597caba2ca045: Downloading m3u8 information\n",
      "[PornHub] ph597caba2ca045: Downloading m3u8 information\n",
      "[hlsnative] Downloading m3u8 manifest\n",
      "[hlsnative] Total fragments: 414\n",
      "[download] Destination: all-videos/ph597caba2ca045.mp4\n",
      "[download]  92.3% of ~142.13MiB at  1.87MiB/s ETA 00:12234:22"
     ]
    },
    {
     "name": "stderr",
     "output_type": "stream",
     "text": [
      "ERROR: giving up after 0 retries\n"
     ]
    },
    {
     "name": "stdout",
     "output_type": "stream",
     "text": [
      "fail Vintage 3 ERROR: giving up after 0 retries\n",
      "Vintage 4\n",
      "[PornHub] ph597caba2ca045: Downloading pc webpage\n",
      "[PornHub] ph597caba2ca045: Downloading m3u8 information\n",
      "[PornHub] ph597caba2ca045: Downloading m3u8 information\n",
      "[PornHub] ph597caba2ca045: Downloading m3u8 information\n",
      "[PornHub] ph597caba2ca045: Downloading m3u8 information\n",
      "[hlsnative] Downloading m3u8 manifest\n",
      "[hlsnative] Total fragments: 414\n",
      "[download] Destination: all-videos/ph597caba2ca045.mp4\n",
      "[download] 100% of 145.15MiB in 00:05.64MiB/s ETA 00:0003\n",
      "[ffmpeg] Fixing malformed AAC bitstream in \"all-videos/ph597caba2ca045.mp4\"\n",
      "[PornHub] ph5b9da01c5a3c9: Downloading pc webpage\n",
      "[PornHub] ph5b9da01c5a3c9: Downloading m3u8 information\n",
      "[PornHub] ph5b9da01c5a3c9: Downloading m3u8 information\n",
      "[PornHub] ph5b9da01c5a3c9: Downloading m3u8 information\n",
      "[PornHub] ph5b9da01c5a3c9: Downloading m3u8 information\n"
     ]
    },
    {
     "name": "stderr",
     "output_type": "stream",
     "text": [
      "WARNING: Failed to download m3u8 information: HTTP Error 404: Not Found\n"
     ]
    },
    {
     "name": "stdout",
     "output_type": "stream",
     "text": [
      "fail Vintage 4 cannot unpack non-iterable bool object\n",
      "Russian 1\n",
      "[PornHub] ph5c0af11428688: Downloading pc webpage\n",
      "[PornHub] ph5c0af11428688: Downloading m3u8 information\n",
      "[PornHub] ph5c0af11428688: Downloading m3u8 information\n",
      "[PornHub] ph5c0af11428688: Downloading m3u8 information\n",
      "[PornHub] ph5c0af11428688: Downloading m3u8 information\n",
      "[PornHub] ph5c0af11428688: Downloading m3u8 information\n",
      "[hlsnative] Downloading m3u8 manifest\n",
      "[hlsnative] Total fragments: 161\n",
      "[download] Destination: all-videos/ph5c0af11428688.mp4\n",
      "[download] 100% of 279.85MiB in 00:56.84MiB/s ETA 00:0003\n",
      "[ffmpeg] Fixing malformed AAC bitstream in \"all-videos/ph5c0af11428688.mp4\"\n",
      "[PornHub] ph5bba923279329: Downloading pc webpage\n",
      "[PornHub] ph5bba923279329: Downloading m3u8 information\n",
      "[PornHub] ph5bba923279329: Downloading m3u8 information\n"
     ]
    },
    {
     "name": "stderr",
     "output_type": "stream",
     "text": [
      "WARNING: Failed to download m3u8 information: HTTP Error 502: Bad Gateway\n"
     ]
    },
    {
     "name": "stdout",
     "output_type": "stream",
     "text": [
      "fail Russian 1 cannot unpack non-iterable bool object\n",
      "Russian 2\n",
      "[PornHub] ph5bba923279329: Downloading pc webpage\n",
      "[PornHub] ph5bba923279329: Downloading m3u8 information\n",
      "[PornHub] ph5bba923279329: Downloading m3u8 information\n",
      "[PornHub] ph5bba923279329: Downloading m3u8 information\n",
      "[PornHub] ph5bba923279329: Downloading m3u8 information\n",
      "[PornHub] ph5bba923279329: Downloading m3u8 information\n",
      "[hlsnative] Downloading m3u8 manifest\n",
      "[hlsnative] Total fragments: 86\n",
      "[download] Destination: all-videos/ph5bba923279329.mp4\n",
      "[download] 100% of 106.65MiB in 00:22.79MiB/s ETA 00:0005\n",
      "[ffmpeg] Fixing malformed AAC bitstream in \"all-videos/ph5bba923279329.mp4\"\n",
      "[PornHub] ph5cdf07d5bbe31: Downloading pc webpage\n",
      "[PornHub] ph5cdf07d5bbe31: Downloading m3u8 information\n",
      "[PornHub] ph5cdf07d5bbe31: Downloading m3u8 information\n",
      "[PornHub] ph5cdf07d5bbe31: Downloading m3u8 information\n",
      "[PornHub] ph5cdf07d5bbe31: Downloading m3u8 information\n",
      "[PornHub] ph5cdf07d5bbe31: Downloading m3u8 information\n",
      "[hlsnative] Downloading m3u8 manifest\n",
      "[hlsnative] Total fragments: 326\n",
      "[download] Destination: all-videos/ph5cdf07d5bbe31.mp4\n",
      "[download] 100% of 466.77MiB in 01:26.91MiB/s ETA 00:0004:11\n",
      "[ffmpeg] Fixing malformed AAC bitstream in \"all-videos/ph5cdf07d5bbe31.mp4\"\n"
     ]
    },
    {
     "ename": "KeyboardInterrupt",
     "evalue": "",
     "output_type": "error",
     "traceback": [
      "\u001b[0;31m---------------------------------------------------------------------------\u001b[0m",
      "\u001b[0;31mKeyboardInterrupt\u001b[0m                         Traceback (most recent call last)",
      "\u001b[0;32m<ipython-input-473-bebec102b9e6>\u001b[0m in \u001b[0;36m<module>\u001b[0;34m\u001b[0m\n\u001b[1;32m     16\u001b[0m \u001b[0;31m# except Exception:\u001b[0m\u001b[0;34m\u001b[0m\u001b[0;34m\u001b[0m\u001b[0;34m\u001b[0m\u001b[0m\n\u001b[1;32m     17\u001b[0m \u001b[0;31m#     jobs.running or jobs.new(make_montages, cats)\u001b[0m\u001b[0;34m\u001b[0m\u001b[0;34m\u001b[0m\u001b[0;34m\u001b[0m\u001b[0m\n\u001b[0;32m---> 18\u001b[0;31m \u001b[0mmake_montages\u001b[0m\u001b[0;34m(\u001b[0m\u001b[0mcats\u001b[0m\u001b[0;34m)\u001b[0m\u001b[0;34m\u001b[0m\u001b[0;34m\u001b[0m\u001b[0m\n\u001b[0m",
      "\u001b[0;32m<ipython-input-473-bebec102b9e6>\u001b[0m in \u001b[0;36mmake_montages\u001b[0;34m(cats)\u001b[0m\n\u001b[1;32m      4\u001b[0m             \u001b[0mprint\u001b[0m\u001b[0;34m(\u001b[0m\u001b[0mcat\u001b[0m\u001b[0;34m,\u001b[0m \u001b[0mattempt\u001b[0m\u001b[0;34m)\u001b[0m\u001b[0;34m\u001b[0m\u001b[0;34m\u001b[0m\u001b[0m\n\u001b[1;32m      5\u001b[0m             \u001b[0;32mtry\u001b[0m\u001b[0;34m:\u001b[0m\u001b[0;34m\u001b[0m\u001b[0;34m\u001b[0m\u001b[0m\n\u001b[0;32m----> 6\u001b[0;31m                 \u001b[0mmake_montage\u001b[0m\u001b[0;34m(\u001b[0m\u001b[0mcat\u001b[0m\u001b[0;34m)\u001b[0m\u001b[0;34m\u001b[0m\u001b[0;34m\u001b[0m\u001b[0m\n\u001b[0m\u001b[1;32m      7\u001b[0m                 \u001b[0;32mbreak\u001b[0m\u001b[0;34m\u001b[0m\u001b[0;34m\u001b[0m\u001b[0m\n\u001b[1;32m      8\u001b[0m             \u001b[0;32mexcept\u001b[0m \u001b[0mException\u001b[0m \u001b[0;32mas\u001b[0m \u001b[0me\u001b[0m\u001b[0;34m:\u001b[0m\u001b[0;34m\u001b[0m\u001b[0;34m\u001b[0m\u001b[0m\n",
      "\u001b[0;32m<ipython-input-471-a8dca6e63117>\u001b[0m in \u001b[0;36mmake_montage\u001b[0;34m(category)\u001b[0m\n\u001b[1;32m     64\u001b[0m \u001b[0;34m\u001b[0m\u001b[0m\n\u001b[1;32m     65\u001b[0m \u001b[0;32mdef\u001b[0m \u001b[0mmake_montage\u001b[0m\u001b[0;34m(\u001b[0m\u001b[0mcategory\u001b[0m\u001b[0;34m)\u001b[0m\u001b[0;34m:\u001b[0m\u001b[0;34m\u001b[0m\u001b[0;34m\u001b[0m\u001b[0m\n\u001b[0;32m---> 66\u001b[0;31m     \u001b[0mdownloaded\u001b[0m \u001b[0;34m=\u001b[0m \u001b[0mdownload_best\u001b[0m\u001b[0;34m(\u001b[0m\u001b[0mcategory\u001b[0m\u001b[0;34m)\u001b[0m\u001b[0;34m\u001b[0m\u001b[0;34m\u001b[0m\u001b[0m\n\u001b[0m\u001b[1;32m     67\u001b[0m     \u001b[0mplaylists\u001b[0m \u001b[0;34m=\u001b[0m \u001b[0;34m[\u001b[0m\u001b[0;34m]\u001b[0m\u001b[0;34m\u001b[0m\u001b[0;34m\u001b[0m\u001b[0m\n\u001b[1;32m     68\u001b[0m     \u001b[0;32mfor\u001b[0m \u001b[0mf\u001b[0m \u001b[0;32min\u001b[0m \u001b[0mdownloaded\u001b[0m\u001b[0;34m:\u001b[0m\u001b[0;34m\u001b[0m\u001b[0;34m\u001b[0m\u001b[0m\n",
      "\u001b[0;32m<ipython-input-471-a8dca6e63117>\u001b[0m in \u001b[0;36mdownload_best\u001b[0;34m(category)\u001b[0m\n\u001b[1;32m     49\u001b[0m     \u001b[0;32mfor\u001b[0m \u001b[0mthumbname\u001b[0m \u001b[0;32min\u001b[0m \u001b[0mbest\u001b[0m\u001b[0;34m:\u001b[0m\u001b[0;34m\u001b[0m\u001b[0;34m\u001b[0m\u001b[0m\n\u001b[1;32m     50\u001b[0m         \u001b[0murl\u001b[0m \u001b[0;34m=\u001b[0m \u001b[0mlookup\u001b[0m\u001b[0;34m[\u001b[0m\u001b[0mthumbname\u001b[0m\u001b[0;34m]\u001b[0m\u001b[0;34m\u001b[0m\u001b[0;34m\u001b[0m\u001b[0m\n\u001b[0;32m---> 51\u001b[0;31m         \u001b[0moutfile\u001b[0m \u001b[0;34m=\u001b[0m \u001b[0mdownload_video\u001b[0m\u001b[0;34m(\u001b[0m\u001b[0murl\u001b[0m\u001b[0;34m)\u001b[0m\u001b[0;34m\u001b[0m\u001b[0;34m\u001b[0m\u001b[0m\n\u001b[0m\u001b[1;32m     52\u001b[0m         \u001b[0moutfiles\u001b[0m\u001b[0;34m.\u001b[0m\u001b[0mappend\u001b[0m\u001b[0;34m(\u001b[0m\u001b[0moutfile\u001b[0m\u001b[0;34m)\u001b[0m\u001b[0;34m\u001b[0m\u001b[0;34m\u001b[0m\u001b[0m\n\u001b[1;32m     53\u001b[0m     \u001b[0;32mreturn\u001b[0m \u001b[0moutfiles\u001b[0m\u001b[0;34m\u001b[0m\u001b[0;34m\u001b[0m\u001b[0m\n",
      "\u001b[0;32m<ipython-input-471-a8dca6e63117>\u001b[0m in \u001b[0;36mdownload_video\u001b[0;34m(url)\u001b[0m\n\u001b[1;32m     21\u001b[0m         ])[-1][-1]\n\u001b[1;32m     22\u001b[0m         \u001b[0mselected\u001b[0m\u001b[0;34m[\u001b[0m\u001b[0;34m'title'\u001b[0m\u001b[0;34m]\u001b[0m \u001b[0;34m=\u001b[0m \u001b[0;34m'UNUSED_TITLE'\u001b[0m\u001b[0;34m\u001b[0m\u001b[0;34m\u001b[0m\u001b[0m\n\u001b[0;32m---> 23\u001b[0;31m         \u001b[0mydl\u001b[0m\u001b[0;34m.\u001b[0m\u001b[0mprocess_info\u001b[0m\u001b[0;34m(\u001b[0m\u001b[0mselected\u001b[0m\u001b[0;34m)\u001b[0m\u001b[0;34m\u001b[0m\u001b[0;34m\u001b[0m\u001b[0m\n\u001b[0m\u001b[1;32m     24\u001b[0m     \u001b[0;32mreturn\u001b[0m \u001b[0moutfile\u001b[0m\u001b[0;34m\u001b[0m\u001b[0;34m\u001b[0m\u001b[0m\n\u001b[1;32m     25\u001b[0m \u001b[0;34m\u001b[0m\u001b[0m\n",
      "\u001b[0;32m~/src/eye-tracking/youtube-dl/youtube_dl/YoutubeDL.py\u001b[0m in \u001b[0;36mprocess_info\u001b[0;34m(self, info_dict)\u001b[0m\n\u001b[1;32m   1997\u001b[0m \u001b[0;34m\u001b[0m\u001b[0m\n\u001b[1;32m   1998\u001b[0m                 \u001b[0;32mtry\u001b[0m\u001b[0;34m:\u001b[0m\u001b[0;34m\u001b[0m\u001b[0;34m\u001b[0m\u001b[0m\n\u001b[0;32m-> 1999\u001b[0;31m                     \u001b[0mself\u001b[0m\u001b[0;34m.\u001b[0m\u001b[0mpost_process\u001b[0m\u001b[0;34m(\u001b[0m\u001b[0mfilename\u001b[0m\u001b[0;34m,\u001b[0m \u001b[0minfo_dict\u001b[0m\u001b[0;34m)\u001b[0m\u001b[0;34m\u001b[0m\u001b[0;34m\u001b[0m\u001b[0m\n\u001b[0m\u001b[1;32m   2000\u001b[0m                 \u001b[0;32mexcept\u001b[0m \u001b[0;34m(\u001b[0m\u001b[0mPostProcessingError\u001b[0m\u001b[0;34m)\u001b[0m \u001b[0;32mas\u001b[0m \u001b[0merr\u001b[0m\u001b[0;34m:\u001b[0m\u001b[0;34m\u001b[0m\u001b[0;34m\u001b[0m\u001b[0m\n\u001b[1;32m   2001\u001b[0m                     \u001b[0mself\u001b[0m\u001b[0;34m.\u001b[0m\u001b[0mreport_error\u001b[0m\u001b[0;34m(\u001b[0m\u001b[0;34m'postprocessing: %s'\u001b[0m \u001b[0;34m%\u001b[0m \u001b[0mstr\u001b[0m\u001b[0;34m(\u001b[0m\u001b[0merr\u001b[0m\u001b[0;34m)\u001b[0m\u001b[0;34m)\u001b[0m\u001b[0;34m\u001b[0m\u001b[0;34m\u001b[0m\u001b[0m\n",
      "\u001b[0;32m~/src/eye-tracking/youtube-dl/youtube_dl/YoutubeDL.py\u001b[0m in \u001b[0;36mpost_process\u001b[0;34m(self, filename, ie_info)\u001b[0m\n\u001b[1;32m   2062\u001b[0m             \u001b[0mfiles_to_delete\u001b[0m \u001b[0;34m=\u001b[0m \u001b[0;34m[\u001b[0m\u001b[0;34m]\u001b[0m\u001b[0;34m\u001b[0m\u001b[0;34m\u001b[0m\u001b[0m\n\u001b[1;32m   2063\u001b[0m             \u001b[0;32mtry\u001b[0m\u001b[0;34m:\u001b[0m\u001b[0;34m\u001b[0m\u001b[0;34m\u001b[0m\u001b[0m\n\u001b[0;32m-> 2064\u001b[0;31m                 \u001b[0mfiles_to_delete\u001b[0m\u001b[0;34m,\u001b[0m \u001b[0minfo\u001b[0m \u001b[0;34m=\u001b[0m \u001b[0mpp\u001b[0m\u001b[0;34m.\u001b[0m\u001b[0mrun\u001b[0m\u001b[0;34m(\u001b[0m\u001b[0minfo\u001b[0m\u001b[0;34m)\u001b[0m\u001b[0;34m\u001b[0m\u001b[0;34m\u001b[0m\u001b[0m\n\u001b[0m\u001b[1;32m   2065\u001b[0m             \u001b[0;32mexcept\u001b[0m \u001b[0mPostProcessingError\u001b[0m \u001b[0;32mas\u001b[0m \u001b[0me\u001b[0m\u001b[0;34m:\u001b[0m\u001b[0;34m\u001b[0m\u001b[0;34m\u001b[0m\u001b[0m\n\u001b[1;32m   2066\u001b[0m                 \u001b[0mself\u001b[0m\u001b[0;34m.\u001b[0m\u001b[0mreport_error\u001b[0m\u001b[0;34m(\u001b[0m\u001b[0me\u001b[0m\u001b[0;34m.\u001b[0m\u001b[0mmsg\u001b[0m\u001b[0;34m)\u001b[0m\u001b[0;34m\u001b[0m\u001b[0;34m\u001b[0m\u001b[0m\n",
      "\u001b[0;32m~/src/eye-tracking/youtube-dl/youtube_dl/postprocessor/ffmpeg.py\u001b[0m in \u001b[0;36mrun\u001b[0;34m(self, info)\u001b[0m\n\u001b[1;32m    577\u001b[0m             \u001b[0moptions\u001b[0m \u001b[0;34m=\u001b[0m \u001b[0;34m[\u001b[0m\u001b[0;34m'-c'\u001b[0m\u001b[0;34m,\u001b[0m \u001b[0;34m'copy'\u001b[0m\u001b[0;34m,\u001b[0m \u001b[0;34m'-f'\u001b[0m\u001b[0;34m,\u001b[0m \u001b[0;34m'mp4'\u001b[0m\u001b[0;34m,\u001b[0m \u001b[0;34m'-bsf:a'\u001b[0m\u001b[0;34m,\u001b[0m \u001b[0;34m'aac_adtstoasc'\u001b[0m\u001b[0;34m]\u001b[0m\u001b[0;34m\u001b[0m\u001b[0;34m\u001b[0m\u001b[0m\n\u001b[1;32m    578\u001b[0m             \u001b[0mself\u001b[0m\u001b[0;34m.\u001b[0m\u001b[0m_downloader\u001b[0m\u001b[0;34m.\u001b[0m\u001b[0mto_screen\u001b[0m\u001b[0;34m(\u001b[0m\u001b[0;34m'[ffmpeg] Fixing malformed AAC bitstream in \"%s\"'\u001b[0m \u001b[0;34m%\u001b[0m \u001b[0mfilename\u001b[0m\u001b[0;34m)\u001b[0m\u001b[0;34m\u001b[0m\u001b[0;34m\u001b[0m\u001b[0m\n\u001b[0;32m--> 579\u001b[0;31m             \u001b[0mself\u001b[0m\u001b[0;34m.\u001b[0m\u001b[0mrun_ffmpeg\u001b[0m\u001b[0;34m(\u001b[0m\u001b[0mfilename\u001b[0m\u001b[0;34m,\u001b[0m \u001b[0mtemp_filename\u001b[0m\u001b[0;34m,\u001b[0m \u001b[0moptions\u001b[0m\u001b[0;34m)\u001b[0m\u001b[0;34m\u001b[0m\u001b[0;34m\u001b[0m\u001b[0m\n\u001b[0m\u001b[1;32m    580\u001b[0m \u001b[0;34m\u001b[0m\u001b[0m\n\u001b[1;32m    581\u001b[0m             \u001b[0mos\u001b[0m\u001b[0;34m.\u001b[0m\u001b[0mremove\u001b[0m\u001b[0;34m(\u001b[0m\u001b[0mencodeFilename\u001b[0m\u001b[0;34m(\u001b[0m\u001b[0mfilename\u001b[0m\u001b[0;34m)\u001b[0m\u001b[0;34m)\u001b[0m\u001b[0;34m\u001b[0m\u001b[0;34m\u001b[0m\u001b[0m\n",
      "\u001b[0;32m~/src/eye-tracking/youtube-dl/youtube_dl/postprocessor/ffmpeg.py\u001b[0m in \u001b[0;36mrun_ffmpeg\u001b[0;34m(self, path, out_path, opts)\u001b[0m\n\u001b[1;32m    237\u001b[0m \u001b[0;34m\u001b[0m\u001b[0m\n\u001b[1;32m    238\u001b[0m     \u001b[0;32mdef\u001b[0m \u001b[0mrun_ffmpeg\u001b[0m\u001b[0;34m(\u001b[0m\u001b[0mself\u001b[0m\u001b[0;34m,\u001b[0m \u001b[0mpath\u001b[0m\u001b[0;34m,\u001b[0m \u001b[0mout_path\u001b[0m\u001b[0;34m,\u001b[0m \u001b[0mopts\u001b[0m\u001b[0;34m)\u001b[0m\u001b[0;34m:\u001b[0m\u001b[0;34m\u001b[0m\u001b[0;34m\u001b[0m\u001b[0m\n\u001b[0;32m--> 239\u001b[0;31m         \u001b[0mself\u001b[0m\u001b[0;34m.\u001b[0m\u001b[0mrun_ffmpeg_multiple_files\u001b[0m\u001b[0;34m(\u001b[0m\u001b[0;34m[\u001b[0m\u001b[0mpath\u001b[0m\u001b[0;34m]\u001b[0m\u001b[0;34m,\u001b[0m \u001b[0mout_path\u001b[0m\u001b[0;34m,\u001b[0m \u001b[0mopts\u001b[0m\u001b[0;34m)\u001b[0m\u001b[0;34m\u001b[0m\u001b[0;34m\u001b[0m\u001b[0m\n\u001b[0m\u001b[1;32m    240\u001b[0m \u001b[0;34m\u001b[0m\u001b[0m\n\u001b[1;32m    241\u001b[0m     \u001b[0;32mdef\u001b[0m \u001b[0m_ffmpeg_filename_argument\u001b[0m\u001b[0;34m(\u001b[0m\u001b[0mself\u001b[0m\u001b[0;34m,\u001b[0m \u001b[0mfn\u001b[0m\u001b[0;34m)\u001b[0m\u001b[0;34m:\u001b[0m\u001b[0;34m\u001b[0m\u001b[0;34m\u001b[0m\u001b[0m\n",
      "\u001b[0;32m~/src/eye-tracking/youtube-dl/youtube_dl/postprocessor/ffmpeg.py\u001b[0m in \u001b[0;36mrun_ffmpeg_multiple_files\u001b[0;34m(self, input_paths, out_path, opts)\u001b[0m\n\u001b[1;32m    229\u001b[0m             \u001b[0mself\u001b[0m\u001b[0;34m.\u001b[0m\u001b[0m_downloader\u001b[0m\u001b[0;34m.\u001b[0m\u001b[0mto_screen\u001b[0m\u001b[0;34m(\u001b[0m\u001b[0;34m'[debug] ffmpeg command line: %s'\u001b[0m \u001b[0;34m%\u001b[0m \u001b[0mshell_quote\u001b[0m\u001b[0;34m(\u001b[0m\u001b[0mcmd\u001b[0m\u001b[0;34m)\u001b[0m\u001b[0;34m)\u001b[0m\u001b[0;34m\u001b[0m\u001b[0;34m\u001b[0m\u001b[0m\n\u001b[1;32m    230\u001b[0m         \u001b[0mp\u001b[0m \u001b[0;34m=\u001b[0m \u001b[0msubprocess\u001b[0m\u001b[0;34m.\u001b[0m\u001b[0mPopen\u001b[0m\u001b[0;34m(\u001b[0m\u001b[0mcmd\u001b[0m\u001b[0;34m,\u001b[0m \u001b[0mstdout\u001b[0m\u001b[0;34m=\u001b[0m\u001b[0msubprocess\u001b[0m\u001b[0;34m.\u001b[0m\u001b[0mPIPE\u001b[0m\u001b[0;34m,\u001b[0m \u001b[0mstderr\u001b[0m\u001b[0;34m=\u001b[0m\u001b[0msubprocess\u001b[0m\u001b[0;34m.\u001b[0m\u001b[0mPIPE\u001b[0m\u001b[0;34m,\u001b[0m \u001b[0mstdin\u001b[0m\u001b[0;34m=\u001b[0m\u001b[0msubprocess\u001b[0m\u001b[0;34m.\u001b[0m\u001b[0mPIPE\u001b[0m\u001b[0;34m)\u001b[0m\u001b[0;34m\u001b[0m\u001b[0;34m\u001b[0m\u001b[0m\n\u001b[0;32m--> 231\u001b[0;31m         \u001b[0mstdout\u001b[0m\u001b[0;34m,\u001b[0m \u001b[0mstderr\u001b[0m \u001b[0;34m=\u001b[0m \u001b[0mp\u001b[0m\u001b[0;34m.\u001b[0m\u001b[0mcommunicate\u001b[0m\u001b[0;34m(\u001b[0m\u001b[0;34m)\u001b[0m\u001b[0;34m\u001b[0m\u001b[0;34m\u001b[0m\u001b[0m\n\u001b[0m\u001b[1;32m    232\u001b[0m         \u001b[0;32mif\u001b[0m \u001b[0mp\u001b[0m\u001b[0;34m.\u001b[0m\u001b[0mreturncode\u001b[0m \u001b[0;34m!=\u001b[0m \u001b[0;36m0\u001b[0m\u001b[0;34m:\u001b[0m\u001b[0;34m\u001b[0m\u001b[0;34m\u001b[0m\u001b[0m\n\u001b[1;32m    233\u001b[0m             \u001b[0mstderr\u001b[0m \u001b[0;34m=\u001b[0m \u001b[0mstderr\u001b[0m\u001b[0;34m.\u001b[0m\u001b[0mdecode\u001b[0m\u001b[0;34m(\u001b[0m\u001b[0;34m'utf-8'\u001b[0m\u001b[0;34m,\u001b[0m \u001b[0;34m'replace'\u001b[0m\u001b[0;34m)\u001b[0m\u001b[0;34m\u001b[0m\u001b[0;34m\u001b[0m\u001b[0m\n",
      "\u001b[0;32m/usr/local/Cellar/python/3.7.6/Frameworks/Python.framework/Versions/3.7/lib/python3.7/subprocess.py\u001b[0m in \u001b[0;36mcommunicate\u001b[0;34m(self, input, timeout)\u001b[0m\n\u001b[1;32m    962\u001b[0m \u001b[0;34m\u001b[0m\u001b[0m\n\u001b[1;32m    963\u001b[0m             \u001b[0;32mtry\u001b[0m\u001b[0;34m:\u001b[0m\u001b[0;34m\u001b[0m\u001b[0;34m\u001b[0m\u001b[0m\n\u001b[0;32m--> 964\u001b[0;31m                 \u001b[0mstdout\u001b[0m\u001b[0;34m,\u001b[0m \u001b[0mstderr\u001b[0m \u001b[0;34m=\u001b[0m \u001b[0mself\u001b[0m\u001b[0;34m.\u001b[0m\u001b[0m_communicate\u001b[0m\u001b[0;34m(\u001b[0m\u001b[0minput\u001b[0m\u001b[0;34m,\u001b[0m \u001b[0mendtime\u001b[0m\u001b[0;34m,\u001b[0m \u001b[0mtimeout\u001b[0m\u001b[0;34m)\u001b[0m\u001b[0;34m\u001b[0m\u001b[0;34m\u001b[0m\u001b[0m\n\u001b[0m\u001b[1;32m    965\u001b[0m             \u001b[0;32mexcept\u001b[0m \u001b[0mKeyboardInterrupt\u001b[0m\u001b[0;34m:\u001b[0m\u001b[0;34m\u001b[0m\u001b[0;34m\u001b[0m\u001b[0m\n\u001b[1;32m    966\u001b[0m                 \u001b[0;31m# https://bugs.python.org/issue25942\u001b[0m\u001b[0;34m\u001b[0m\u001b[0;34m\u001b[0m\u001b[0;34m\u001b[0m\u001b[0m\n",
      "\u001b[0;32m/usr/local/Cellar/python/3.7.6/Frameworks/Python.framework/Versions/3.7/lib/python3.7/subprocess.py\u001b[0m in \u001b[0;36m_communicate\u001b[0;34m(self, input, endtime, orig_timeout)\u001b[0m\n\u001b[1;32m   1713\u001b[0m                             'failed to raise TimeoutExpired.')\n\u001b[1;32m   1714\u001b[0m \u001b[0;34m\u001b[0m\u001b[0m\n\u001b[0;32m-> 1715\u001b[0;31m                     \u001b[0mready\u001b[0m \u001b[0;34m=\u001b[0m \u001b[0mselector\u001b[0m\u001b[0;34m.\u001b[0m\u001b[0mselect\u001b[0m\u001b[0;34m(\u001b[0m\u001b[0mtimeout\u001b[0m\u001b[0;34m)\u001b[0m\u001b[0;34m\u001b[0m\u001b[0;34m\u001b[0m\u001b[0m\n\u001b[0m\u001b[1;32m   1716\u001b[0m                     \u001b[0mself\u001b[0m\u001b[0;34m.\u001b[0m\u001b[0m_check_timeout\u001b[0m\u001b[0;34m(\u001b[0m\u001b[0mendtime\u001b[0m\u001b[0;34m,\u001b[0m \u001b[0morig_timeout\u001b[0m\u001b[0;34m,\u001b[0m \u001b[0mstdout\u001b[0m\u001b[0;34m,\u001b[0m \u001b[0mstderr\u001b[0m\u001b[0;34m)\u001b[0m\u001b[0;34m\u001b[0m\u001b[0;34m\u001b[0m\u001b[0m\n\u001b[1;32m   1717\u001b[0m \u001b[0;34m\u001b[0m\u001b[0m\n",
      "\u001b[0;32m/usr/local/Cellar/python/3.7.6/Frameworks/Python.framework/Versions/3.7/lib/python3.7/selectors.py\u001b[0m in \u001b[0;36mselect\u001b[0;34m(self, timeout)\u001b[0m\n\u001b[1;32m    413\u001b[0m         \u001b[0mready\u001b[0m \u001b[0;34m=\u001b[0m \u001b[0;34m[\u001b[0m\u001b[0;34m]\u001b[0m\u001b[0;34m\u001b[0m\u001b[0;34m\u001b[0m\u001b[0m\n\u001b[1;32m    414\u001b[0m         \u001b[0;32mtry\u001b[0m\u001b[0;34m:\u001b[0m\u001b[0;34m\u001b[0m\u001b[0;34m\u001b[0m\u001b[0m\n\u001b[0;32m--> 415\u001b[0;31m             \u001b[0mfd_event_list\u001b[0m \u001b[0;34m=\u001b[0m \u001b[0mself\u001b[0m\u001b[0;34m.\u001b[0m\u001b[0m_selector\u001b[0m\u001b[0;34m.\u001b[0m\u001b[0mpoll\u001b[0m\u001b[0;34m(\u001b[0m\u001b[0mtimeout\u001b[0m\u001b[0;34m)\u001b[0m\u001b[0;34m\u001b[0m\u001b[0;34m\u001b[0m\u001b[0m\n\u001b[0m\u001b[1;32m    416\u001b[0m         \u001b[0;32mexcept\u001b[0m \u001b[0mInterruptedError\u001b[0m\u001b[0;34m:\u001b[0m\u001b[0;34m\u001b[0m\u001b[0;34m\u001b[0m\u001b[0m\n\u001b[1;32m    417\u001b[0m             \u001b[0;32mreturn\u001b[0m \u001b[0mready\u001b[0m\u001b[0;34m\u001b[0m\u001b[0;34m\u001b[0m\u001b[0m\n",
      "\u001b[0;31mKeyboardInterrupt\u001b[0m: "
     ]
    }
   ],
   "source": [
    "def make_montages(cats):\n",
    "    for cat in cats:\n",
    "        for attempt in range(1, 5):\n",
    "            print(cat, attempt)\n",
    "            try:\n",
    "                make_montage(cat)\n",
    "                break\n",
    "            except Exception as e:\n",
    "                print('fail', cat, attempt, e)\n",
    "            else:\n",
    "                print(\"last chance\", cat, attempt)\n",
    "                make_montage(cat)\n",
    "\n",
    "# try:\n",
    "#     [j.join() for j in jobs.running]\n",
    "# except Exception:\n",
    "#     jobs.running or jobs.new(make_montages, cats)\n",
    "make_montages(cats)"
   ]
  },
  {
   "cell_type": "code",
   "execution_count": null,
   "metadata": {},
   "outputs": [],
   "source": []
  },
  {
   "cell_type": "code",
   "execution_count": null,
   "metadata": {},
   "outputs": [],
   "source": []
  }
 ],
 "metadata": {
  "kernelspec": {
   "display_name": "Python 3",
   "language": "python",
   "name": "python3"
  },
  "language_info": {
   "codemirror_mode": {
    "name": "ipython",
    "version": 3
   },
   "file_extension": ".py",
   "mimetype": "text/x-python",
   "name": "python",
   "nbconvert_exporter": "python",
   "pygments_lexer": "ipython3",
   "version": "3.7.6"
  }
 },
 "nbformat": 4,
 "nbformat_minor": 2
}
