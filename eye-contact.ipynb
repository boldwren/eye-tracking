{
 "cells": [
  {
   "cell_type": "code",
   "execution_count": 1,
   "metadata": {},
   "outputs": [],
   "source": [
    "from typing import List, Any\n",
    "Shape = Any\n"
   ]
  },
  {
   "cell_type": "code",
   "execution_count": 103,
   "metadata": {},
   "outputs": [],
   "source": [
    "from functools import lru_cache\n",
    "import sys\n",
    "import os\n",
    "import glob\n",
    "import time\n",
    "\n",
    "import dlib\n",
    "from scipy.spatial import distance as dist\n",
    "import cv2\n",
    "from matplotlib import pyplot\n",
    "import tqdm.notebook\n",
    "import ipywidgets as wg\n",
    "import IPython.core.display\n",
    "import numpy\n",
    "\n",
    "from IPython.lib import backgroundjobs\n",
    "\n",
    "HOME = os.environ['HOME']"
   ]
  },
  {
   "cell_type": "code",
   "execution_count": null,
   "metadata": {},
   "outputs": [],
   "source": [
    "jobs = backgroundjobs.BackgroundJobManager()\n"
   ]
  },
  {
   "cell_type": "code",
   "execution_count": 3,
   "metadata": {},
   "outputs": [],
   "source": [
    "# If this is broken then patch $VIRTUAL_ENV/lib/python3.7/site-packages/faced/detector.py\n",
    "# as described in https://github.com/iitzco/faced/issues/27 and then:\n",
    "#     del sys.modules[\"faced.detector\"]\n",
    "#     del sys.modules[\"faced\"]\n",
    "# so that it reloads when you import it again.\n",
    "# import faced\n"
   ]
  },
  {
   "cell_type": "code",
   "execution_count": 4,
   "metadata": {},
   "outputs": [],
   "source": [
    "predictor_path = 'shape_predictor_68_face_landmarks.dat'\n",
    "detector = dlib.get_frontal_face_detector()\n",
    "predictor = dlib.shape_predictor(predictor_path)\n"
   ]
  },
  {
   "cell_type": "code",
   "execution_count": 5,
   "metadata": {},
   "outputs": [],
   "source": [
    "@lru_cache(maxsize=1000_000)\n",
    "def detect(filename) -> List[Shape]:\n",
    "    img = dlib.load_rgb_image(filename)\n",
    "    dets = detector(img, 1)\n",
    "    shapes = []\n",
    "    for d in dets:\n",
    "        shape = predictor(img, d)\n",
    "        shapes.append(shape)\n",
    "    return shapes\n"
   ]
  },
  {
   "cell_type": "markdown",
   "metadata": {},
   "source": [
    "\n",
    "\n",
    "face_detector = faced.FaceDetector()\n",
    "\n",
    "def to_rectangles(bboxes):\n",
    "    rectangles = dlib.rectangles()\n",
    "    for (x_center, y_center, width, height, prob) in bboxes:\n",
    "        rectangle = dlib.rectangle(\n",
    "            x_center - (width//2),\n",
    "            y_center - (height//2),\n",
    "            x_center + (width//2),\n",
    "            y_center + (height//2),\n",
    "        )\n",
    "        rectangles.append(rectangle)\n",
    "    return rectangles\n",
    "\n",
    "@lru_cache(maxsize=1000_000)\n",
    "def detect_both_ways(filename):\n",
    "    img = dlib.load_rgb_image(filename)\n",
    "    dets = detector(img, 1)\n",
    "\n",
    "    img = cv2.imread(filename)\n",
    "    rgb_img = cv2.cvtColor(img.copy(), cv2.COLOR_BGR2RGB)\n",
    "\n",
    "    # Receives RGB numpy image (HxWxC) and\n",
    "    # returns (x_center, y_center, width, height, prob) tuples. \n",
    "    bboxes = face_detector.predict(rgb_img)\n",
    "    return dets, to_rectangles(bboxes)\n",
    "\n",
    "\n",
    "\n",
    "@lru_cache(maxsize=1000_000)\n",
    "def detect2(filename):\n",
    "    img = cv2.imread(filename)\n",
    "    rgb_img = cv2.cvtColor(img.copy(), cv2.COLOR_BGR2RGB)\n",
    "    bboxes = face_detector.predict(rgb_img)\n",
    "    rectangles = to_rectangles(bboxes)\n",
    "    faces = []\n",
    "    for d in rectangles:\n",
    "        face = predictor(img, d)\n",
    "        if valid(face, img.shape):\n",
    "            faces.append(face)\n",
    "    return faces"
   ]
  },
  {
   "cell_type": "code",
   "execution_count": 6,
   "metadata": {},
   "outputs": [],
   "source": [
    "# see https://www.learnopencv.com/face-detection-opencv-dlib-and-deep-learning-c-python/\n",
    "import cv2\n",
    "import time\n",
    "import sys\n",
    "\n",
    "\n",
    "def detectFaceOpenCVDnn(net, frame):\n",
    "    conf_threshold = 0.8\n",
    "    \n",
    "    frameOpencvDnn = frame.copy()\n",
    "    frameHeight = frameOpencvDnn.shape[0]\n",
    "    frameWidth = frameOpencvDnn.shape[1]\n",
    "    blob = cv2.dnn.blobFromImage(frameOpencvDnn, 1.0, (300, 300), [104, 117, 123], False, False)\n",
    "\n",
    "    net.setInput(blob)\n",
    "    detections = net.forward()\n",
    "    bboxes = []\n",
    "    for i in range(detections.shape[2]):\n",
    "        confidence = detections[0, 0, i, 2]\n",
    "        if confidence > conf_threshold:\n",
    "            x1 = int(detections[0, 0, i, 3] * frameWidth)\n",
    "            y1 = int(detections[0, 0, i, 4] * frameHeight)\n",
    "            x2 = int(detections[0, 0, i, 5] * frameWidth)\n",
    "            y2 = int(detections[0, 0, i, 6] * frameHeight)\n",
    "            bboxes.append((confidence, [x1, y1, x2, y2]))\n",
    "            cv2.rectangle(frameOpencvDnn, (x1, y1), (x2, y2), (0, 255, 0), int(round(frameHeight/150)), 8)\n",
    "    return frameOpencvDnn, bboxes\n",
    "\n",
    "@lru_cache()\n",
    "def initOpenCVDnn():\n",
    "    modelFile = \"learnopencv/FaceDetectionComparison/models/res10_300x300_ssd_iter_140000_fp16.caffemodel\"\n",
    "    configFile = \"learnopencv/FaceDetectionComparison/models/deploy.prototxt\"\n",
    "    net = cv2.dnn.readNetFromCaffe(configFile, modelFile)\n",
    "    \n",
    "    return net\n",
    "\n",
    "@lru_cache(maxsize=1000_000)\n",
    "def detect_dnn_with_scores(filename):\n",
    "    net = initOpenCVDnn()\n",
    "    img = cv2.imread(filename)\n",
    "#     rgb_img = cv2.cvtColor(img.copy(), cv2.COLOR_BGR2RGB)\n",
    "    outOpencvDnn, bboxes = detectFaceOpenCVDnn(net,img)\n",
    "    \n",
    "    faces = []\n",
    "    for score, bbox in bboxes:\n",
    "        face = predictor(img, dlib.rectangle(*bbox))\n",
    "        if valid(face, img.shape):\n",
    "            faces.append((score, face))\n",
    "    return faces\n",
    "\n",
    "\n",
    "def detect_dnn(filename):\n",
    "    return [face for (_, face) in detect_dnn_with_scores(filename)]"
   ]
  },
  {
   "cell_type": "code",
   "execution_count": 7,
   "metadata": {},
   "outputs": [],
   "source": [
    "def valid(face, shape=(1920, 3840, 3)):\n",
    "    y, x, *_channels = shape\n",
    "    return any((point.x < x and point.y < y) for point in face.parts())\n",
    "\n",
    "def only_valid(faces, shape=(1920, 3840, 3)):\n",
    "    return [\n",
    "        face for face in faces\n",
    "        if valid(face, shape)\n",
    "    ]\n",
    "\n",
    "def only_invalid(faces, shape=(1920, 3840, 3)):\n",
    "    return [\n",
    "        face for face in faces\n",
    "        if not valid(face, shape)\n",
    "    ]"
   ]
  },
  {
   "cell_type": "code",
   "execution_count": 8,
   "metadata": {},
   "outputs": [],
   "source": [
    "def detect_with_fallbacks(filename):\n",
    "    return detect_dnn(filename) # or detect2(filename) # or detect(filename)"
   ]
  },
  {
   "cell_type": "code",
   "execution_count": 82,
   "metadata": {},
   "outputs": [],
   "source": [
    "def eye_aspect_ratio(eye):\n",
    "    # compute the euclidean distances between the two sets of\n",
    "    # vertical eye landmarks (x, y)-coordinates\n",
    "    A =  dlib.length(eye[1] - eye[5])\n",
    "    B =  dlib.length(eye[2] - eye[4])\n",
    " \n",
    "    # compute the euclidean distance between the horizontal\n",
    "    # eye landmark (x, y)-coordinates\n",
    "    C = dlib.length(eye[0] - eye[3]) or 100000000000000000.0\n",
    " \n",
    "    # compute the eye aspect ratio\n",
    "    ratio = (A + B) / (2.0 * C)\n",
    " \n",
    "    # return the eye aspect ratio\n",
    "    return ratio"
   ]
  },
  {
   "cell_type": "code",
   "execution_count": 52,
   "metadata": {},
   "outputs": [],
   "source": [
    "FACIAL_LANDMARKS_IDXS = dict([\n",
    "    (\"mouth\", (48, 68)),\n",
    "    (\"right_eyebrow\", (17, 22)),\n",
    "    (\"left_eyebrow\", (22, 27)),\n",
    "    (\"right_eye\", (36, 42)),\n",
    "    (\"left_eye\", (42, 48)),\n",
    "    (\"nose\", (27, 35)),\n",
    "    (\"jaw\", (0, 17))\n",
    "])\n",
    "\n",
    "\n",
    "if False:\n",
    "    def eye_aspect_ratio(eye):\n",
    "        # compute the euclidean distances between the two sets of\n",
    "        # vertical eye landmarks (x, y)-coordinates\n",
    "        A =  dlib.length(eye[1] - eye[5])\n",
    "        B =  dlib.length(eye[2] - eye[4])\n",
    "\n",
    "        # compute the euclidean distance between the horizontal\n",
    "        # eye landmark (x, y)-coordinates\n",
    "        C = dlib.length(eye[0] - eye[3]) or 100000000000000000.0\n",
    "\n",
    "        # compute the eye aspect ratio\n",
    "        ratio = (A + B) / (2.0 * C)\n",
    "\n",
    "        # return the eye aspect ratio\n",
    "        return ratio\n",
    "\n",
    "def max_eye_aspect_ratio(faces):\n",
    "    max_ratio = 0\n",
    "    for face in faces:\n",
    "        for part in (\"left_eye\", \"right_eye\"):\n",
    "            start, end = FACIAL_LANDMARKS_IDXS[part]\n",
    "            eye = face.parts()[start:end]\n",
    "            ratio = eye_aspect_ratio(eye)\n",
    "            max_ratio = max([ratio, max_ratio])\n",
    "    return max_ratio\n",
    "\n",
    "@lru_cache(maxsize=1000_000)\n",
    "def eye_score_for_file(filename):\n",
    "    return max_eye_aspect_ratio(detect_with_fallbacks(filename))\n",
    "\n",
    "def max_face_size(faces):\n",
    "    max_size = 0\n",
    "    for face in faces:\n",
    "        parts = face.parts()\n",
    "        size = 0\n",
    "        size += dlib.length(parts[1] - parts[17])\n",
    "        size += dlib.length(parts[2] - parts[16])\n",
    "        size += dlib.length(parts[3] - parts[15])\n",
    "        max_size = max([size, max_size])\n",
    "    return max_size\n",
    "\n",
    "def face_score_for_file(filename):\n",
    "    return max_face_size(detect_with_fallbacks(filename))\n",
    "    "
   ]
  },
  {
   "cell_type": "code",
   "execution_count": 10,
   "metadata": {},
   "outputs": [],
   "source": [
    "def detected_filename(filename):\n",
    "    return filename\\\n",
    "        .replace('.jpeg', '.jpg')\\\n",
    "        .replace('.jpg', '.detected.jpg')\\\n",
    "        .replace('.jpg.jpg', '.jpg')\n",
    "\n",
    "\n",
    "@lru_cache(maxsize=1000_000)\n",
    "def save_face_chip(filename):\n",
    "    faces = detect_with_fallbacks(filename)\n",
    "    if not len(faces):\n",
    "        return filename\n",
    "\n",
    "    img = dlib.load_rgb_image(filename)\n",
    "    faces = only_valid(faces, img.shape)\n",
    "    if not len(faces):\n",
    "        return filename\n",
    "    scores = [max_eye_aspect_ratio([face]) for face in faces]\n",
    "\n",
    "    best_face = max(zip(scores, enumerate(faces)))[-1][-1]\n",
    "    \n",
    "    for part in (\"left_eye\", \"right_eye\"):\n",
    "        start, end = FACIAL_LANDMARKS_IDXS[part]\n",
    "        eye = best_face.parts()[start:end]\n",
    "        for pointa, pointb in zip(eye, list(eye[1:])+list(eye[:1])):\n",
    "            cv2.line(img, (pointa.x, pointa.y),(pointb.x, pointb.y), (255,0,255), 5)\n",
    "#     dlib.save_image(img, filename.replace('.jpeg', '.detected.jpg'))\n",
    "    dlib.save_face_chip(img, best_face, detected_filename(filename)[:-4])\n",
    "    return detected_filename(filename)\n"
   ]
  },
  {
   "cell_type": "code",
   "execution_count": 12,
   "metadata": {},
   "outputs": [],
   "source": [
    "@lru_cache(maxsize=1000_000)\n",
    "def save_broken_face_chip(filename):\n",
    "    faces = only_invalid(detect_with_fallbacks(filename))\n",
    "    scores = [max_eye_aspect_ratio([face]) for face in faces]\n",
    "    if len(faces):\n",
    "        best_face = max(zip(scores, enumerate(faces)))[-1][-1]\n",
    "        img = dlib.load_rgb_image(filename)\n",
    "        dlib.save_face_chip(img, best_face, filename.replace('.jpeg', '.jpg').replace('.jpg', '.funky'))\n",
    "        return filename.replace('.jpeg', '.jpg').replace('.jpg', '.funky.jpg')\n",
    "    return filename"
   ]
  },
  {
   "cell_type": "code",
   "execution_count": 135,
   "metadata": {},
   "outputs": [],
   "source": [
    "broken_filenames={}"
   ]
  },
  {
   "cell_type": "code",
   "execution_count": 153,
   "metadata": {},
   "outputs": [
    {
     "data": {
      "application/vnd.jupyter.widget-view+json": {
       "model_id": "d67d627d3a424dd8aad6c91f7246a637",
       "version_major": 2,
       "version_minor": 0
      },
      "text/plain": [
       "HBox(children=(FloatProgress(value=0.0, max=53770.0), HTML(value='')))"
      ]
     },
     "metadata": {},
     "output_type": "display_data"
    }
   ],
   "source": [
    "# faces_folder_path = f'{HOME}/tmp/*x*/*/*.mp4.images/'\n",
    "faces_folder_path = f'{HOME}/src/eye-tracking/betterthumbs/*/'\n",
    "\n",
    "@lru_cache(maxsize=1)\n",
    "def get_filenames():\n",
    "    return list(\n",
    "        f for f in sorted(glob.glob(os.path.join(faces_folder_path, \"*.jpg\")))\n",
    "        if '/tmp/3840x1920/1.mp4' not in f\n",
    "        and 'detected' not in f\n",
    "        and '.jpg.jpg' not in f\n",
    "    #     and '1920x1080/1080P_4000K_236777331.mp4' in f\n",
    "    )\n",
    "\n",
    "def warm_caches(step=1, smoke=False):\n",
    "    start = time.time()\n",
    "    for filename in tqdm.notebook.tqdm(get_filenames()[::step]): #[126:][:1]:\n",
    "        try:\n",
    "            shapes = detect_with_fallbacks(filename)\n",
    "            if len(shapes) and 0.5 > eye_score_for_file(filename) > 0.25:\n",
    "                save_face_chip(filename)\n",
    "        except (AttributeError, ZeroDivisionError, TypeError, ValueError) as e:\n",
    "            broken_filenames[filename] = e\n",
    "        else:\n",
    "            if smoke and time.time() - start > 10:\n",
    "                break\n",
    "           \n",
    "\n",
    "def warm_caches_backwards():\n",
    "    warm_caches(-1)\n",
    "    \n",
    "warm_caches(smoke=True) \n",
    "\n",
    "# jobs.new(warm_caches)\n",
    "# jobs.new(warm_caches_backwards)\n"
   ]
  },
  {
   "cell_type": "code",
   "execution_count": 159,
   "metadata": {},
   "outputs": [
    {
     "data": {
      "text/plain": [
       "<BackgroundJob #27: <function warm_caches_backwards at 0x139221c20>>"
      ]
     },
     "execution_count": 159,
     "metadata": {},
     "output_type": "execute_result"
    },
    {
     "data": {
      "application/vnd.jupyter.widget-view+json": {
       "model_id": "ce0ea76c61a146069d270db4af9efd98",
       "version_major": 2,
       "version_minor": 0
      },
      "text/plain": [
       "HBox(children=(FloatProgress(value=0.0, max=57485.0), HTML(value='')))"
      ]
     },
     "metadata": {},
     "output_type": "display_data"
    },
    {
     "data": {
      "application/vnd.jupyter.widget-view+json": {
       "model_id": "d152a42a2caf4c6e9ad8f48be6fbea5f",
       "version_major": 2,
       "version_minor": 0
      },
      "text/plain": [
       "HBox(children=(FloatProgress(value=0.0, max=57485.0), HTML(value='')))"
      ]
     },
     "metadata": {},
     "output_type": "display_data"
    }
   ],
   "source": [
    "\" warm_caches \" in str(jobs.running) or jobs.new(warm_caches)\n",
    "\" warm_caches_backwards \" in str(jobs.running) or jobs.new(warm_caches_backwards)\n"
   ]
  },
  {
   "cell_type": "code",
   "execution_count": 155,
   "metadata": {},
   "outputs": [
    {
     "data": {
      "text/plain": [
       "<BackgroundJob #25: <function warm_caches_backwards at 0x139221c20>>"
      ]
     },
     "execution_count": 155,
     "metadata": {},
     "output_type": "execute_result"
    },
    {
     "data": {
      "application/vnd.jupyter.widget-view+json": {
       "model_id": "eeb6db4264484e29860ebce9239cca5a",
       "version_major": 2,
       "version_minor": 0
      },
      "text/plain": [
       "HBox(children=(FloatProgress(value=0.0, max=53770.0), HTML(value='')))"
      ]
     },
     "metadata": {},
     "output_type": "display_data"
    }
   ],
   "source": [
    "\" warm_caches \" in str(jobs.running) or jobs.new(warm_caches)\n",
    "\" warm_caches_backwards \" in str(jobs.running) or jobs.new(warm_caches_backwards)\n"
   ]
  },
  {
   "cell_type": "code",
   "execution_count": 156,
   "metadata": {},
   "outputs": [
    {
     "data": {
      "application/vnd.jupyter.widget-view+json": {
       "model_id": "658fc8f8ff5747d7ad15a0a3d5043dea",
       "version_major": 2,
       "version_minor": 0
      },
      "text/plain": [
       "HBox(children=(FloatProgress(value=0.0, max=53770.0), HTML(value='')))"
      ]
     },
     "metadata": {},
     "output_type": "display_data"
    },
    {
     "name": "stdout",
     "output_type": "stream",
     "text": [
      "\n",
      "\n"
     ]
    }
   ],
   "source": [
    "warm_caches_backwards()\n"
   ]
  },
  {
   "cell_type": "code",
   "execution_count": 34,
   "metadata": {},
   "outputs": [
    {
     "data": {
      "application/vnd.jupyter.widget-view+json": {
       "model_id": "84e0099a19114e46a581441a0e8d485e",
       "version_major": 2,
       "version_minor": 0
      },
      "text/plain": [
       "interactive(children=(IntSlider(value=149, description='x', max=298, min=1), Output()), _dom_classes=('widget-…"
      ]
     },
     "metadata": {},
     "output_type": "display_data"
    }
   ],
   "source": [
    "def get_face_filenames():\n",
    "    return list(\n",
    "        sorted(\n",
    "            [\n",
    "                filename for filename in get_filenames()\n",
    "                if True\n",
    "    #             and ('1920x1080'  in filename)\n",
    "                and 0.5 > eye_score_for_file(filename) > 0.25 \n",
    "\n",
    "    #             and '1920x1080/1080P_4000K_236777331.mp4' in filename\n",
    "    #             and only_invalid(detect_with_fallbacks(filename))\n",
    "            ],\n",
    "    #         key=face_score_for_file,\n",
    "        )\n",
    "    )\n",
    "\n",
    "def show_face(x):\n",
    "    filename = get_face_filenames()[x]\n",
    "    facename = detected_filename(filename)\n",
    "    shapes = detect_with_fallbacks(filename)\n",
    "    print(len(shapes), len(detect(filename)), filename.replace(HOME, '~'))\n",
    "    print(eye_score_for_file(filename))\n",
    "    print(face_score_for_file(filename))\n",
    "    \n",
    "    if len(shapes):\n",
    "        print([s for (s,_) in detect_dnn_with_scores(filename)])\n",
    "        filename = save_face_chip(filename)\n",
    "    widget = IPython.core.display.Image(filename=filename)\n",
    "    return widget\n",
    "\n",
    "maxf = len(get_face_filenames()) - 1\n",
    "wg.interact(show_face, x=(1,maxf));\n"
   ]
  },
  {
   "cell_type": "code",
   "execution_count": 16,
   "metadata": {},
   "outputs": [
    {
     "data": {
      "text/plain": [
       "(299, 1344)"
      ]
     },
     "execution_count": 16,
     "metadata": {},
     "output_type": "execute_result"
    }
   ],
   "source": [
    "len(get_face_filenames()) , len(get_filenames())"
   ]
  },
  {
   "cell_type": "code",
   "execution_count": 57,
   "metadata": {},
   "outputs": [
    {
     "data": {
      "text/plain": [
       "[(0.6875,\n",
       "  '~/src/eye-tracking/morethumbs/Interactive/(m=eaAaGwObaaaa)(mh=SL9_onpG4PqXRrkc'),\n",
       " (0.6363636363636364,\n",
       "  '~/src/eye-tracking/morethumbs/Interactive/(m=q3545PUbeaAaGwObaaaa)(mh=2YJMWG_YkfCO7sqJ'),\n",
       " (0.5625,\n",
       "  '~/src/eye-tracking/morethumbs/Interactive/(m=eaAaGwObaaaa)(mh=H2_htFQTKi7EJG33'),\n",
       " (0.5294117647058824,\n",
       "  '~/src/eye-tracking/morethumbs/Interactive/(m=eaAaGwObaaaa)(mh=PVWVyUlByd1Pc_XK'),\n",
       " (0.4375,\n",
       "  '~/src/eye-tracking/morethumbs/Interactive/(m=eaAaGwObaaaa)(mh=z2cgJfQZBH5YpoJt'),\n",
       " (0.4375,\n",
       "  '~/src/eye-tracking/morethumbs/Interactive/(m=eaAaGwObaaaa)(mh=X2NHUgDRRYZ6V48m'),\n",
       " (0.4375,\n",
       "  '~/src/eye-tracking/morethumbs/Interactive/(m=eaAaGwObaaaa)(mh=Rl51KiLdZZDWOGax'),\n",
       " (0.4375,\n",
       "  '~/src/eye-tracking/morethumbs/Interactive/(m=eaAaGwObaaaa)(mh=GulQqgLRxPVmZ-6I'),\n",
       " (0.4117647058823529,\n",
       "  '~/src/eye-tracking/morethumbs/Interactive/(m=qG89NQUbeaAaGwObaaaa)(mh=06YI75vTxEypJ8Ej'),\n",
       " (0.375,\n",
       "  '~/src/eye-tracking/morethumbs/Interactive/(m=eaAaGwObaaaa)(mh=z6vVVdR11m-5_sWy'),\n",
       " (0.375,\n",
       "  '~/src/eye-tracking/morethumbs/Interactive/(m=eaAaGwObaaaa)(mh=BPyCM6J-krzJRryq'),\n",
       " (0.35294117647058826,\n",
       "  '~/src/eye-tracking/morethumbs/Interactive/(m=q545-9UbeaAaGwObaaaa)(mh=S4BwZl95RTPN4vR6'),\n",
       " (0.3125,\n",
       "  '~/src/eye-tracking/morethumbs/Interactive/(m=eaAaGwObaaaa)(mh=oaU_HO03oWcCVz2E'),\n",
       " (0.3125,\n",
       "  '~/src/eye-tracking/morethumbs/Interactive/(m=eaAaGwObaaaa)(mh=_Uof51MMR_5aCZfu'),\n",
       " (0.3125,\n",
       "  '~/src/eye-tracking/morethumbs/Interactive/(m=eaAaGwObaaaa)(mh=Lo8ShB4zb-jl0uD_'),\n",
       " (0.25,\n",
       "  '~/src/eye-tracking/morethumbs/Interactive/(m=eaAaGwObaaaa)(mh=gV3JEU5tvPEGNU1U'),\n",
       " (0.1875,\n",
       "  '~/src/eye-tracking/morethumbs/Interactive/(m=eaAaGwObaaaa)(mh=yP0PvLusFDCscOQ-'),\n",
       " (0.1875,\n",
       "  '~/src/eye-tracking/morethumbs/Interactive/(m=eaAaGwObaaaa)(mh=sLHrHKfXsHMmlY2o'),\n",
       " (0.1875,\n",
       "  '~/src/eye-tracking/morethumbs/Interactive/(m=eaAaGwObaaaa)(mh=oKlSO7TpOpIDpXdq'),\n",
       " (0.1875,\n",
       "  '~/src/eye-tracking/morethumbs/Interactive/(m=eaAaGwObaaaa)(mh=l0FYdKpqyM_wXZPN'),\n",
       " (0.1875,\n",
       "  '~/src/eye-tracking/morethumbs/Interactive/(m=eaAaGwObaaaa)(mh=YDDOutONFcyGD1CU'),\n",
       " (0.1875,\n",
       "  '~/src/eye-tracking/morethumbs/Interactive/(m=eaAaGwObaaaa)(mh=W7nOK6ekmWB_Hzba'),\n",
       " (0.1875,\n",
       "  '~/src/eye-tracking/morethumbs/Interactive/(m=eaAaGwObaaaa)(mh=V_q1WwIG23B-36Ma'),\n",
       " (0.1875,\n",
       "  '~/src/eye-tracking/morethumbs/Interactive/(m=eaAaGwObaaaa)(mh=REq71vJAEeTJxsjv'),\n",
       " (0.1875,\n",
       "  '~/src/eye-tracking/morethumbs/Interactive/(m=eaAaGwObaaaa)(mh=LAZ6q3AEhr8XlV_T'),\n",
       " (0.125,\n",
       "  '~/src/eye-tracking/morethumbs/Interactive/(m=eaAaGwObaaaa)(mh=ysY8B2VCHrIYNjV9'),\n",
       " (0.11764705882352941,\n",
       "  '~/src/eye-tracking/morethumbs/Interactive/(m=qPN20PUbeaAaGwObaaaa)(mh=rhYDNfzXxAdHStDs'),\n",
       " (0.0625,\n",
       "  '~/src/eye-tracking/morethumbs/Interactive/(m=eaAaGwObaaaa)(mh=tbykWN-Ia4eYRms3'),\n",
       " (0.0,\n",
       "  '~/src/eye-tracking/morethumbs/Interactive/(m=eaAaGwObaaaa)(mh=9HF4-u_DqXKboE5D'),\n",
       " (0.0,\n",
       "  '~/src/eye-tracking/morethumbs/Interactive/(m=eaAaGwObaaaa)(mh=0EXL-LbJYeCU340c')]"
      ]
     },
     "execution_count": 57,
     "metadata": {},
     "output_type": "execute_result"
    }
   ],
   "source": [
    "from collections import Counter\n",
    "totals_breakdown = Counter(filename.rsplit(')', 1)[0] for filename in get_filenames() if 'Interactive' in filename)\n",
    "# totals_breakdown\n",
    "\n",
    "faces_breakdown = Counter(filename.rsplit(')', 1)[0] for filename in get_face_filenames() if 'Interactive' in filename)\n",
    "# faces_breakdown\n",
    "\n",
    "best = sorted([\n",
    "        (faces_breakdown[k]/totals_breakdown[k], k.replace('.images/', '.hls/out.m3u8').replace(HOME, '~'))\n",
    "        for k in totals_breakdown.keys()\n",
    "        if totals_breakdown[k] > 5\n",
    "    ], reverse=True)\n",
    "best"
   ]
  },
  {
   "cell_type": "code",
   "execution_count": null,
   "metadata": {},
   "outputs": [],
   "source": []
  },
  {
   "cell_type": "code",
   "execution_count": null,
   "metadata": {},
   "outputs": [],
   "source": [
    "import os\n",
    "\n",
    "def to_keyframe_filename(ts_filename):\n",
    "    return ts_filename.replace(\n",
    "        'segment', 'keyframe'\n",
    "    ).replace(\n",
    "        '.ts\\n', '.jpeg'\n",
    "    )\n",
    "\n",
    "def make_filtered_playlist(\n",
    "    original_playlist_filename,\n",
    "    filter_function,\n",
    "    output_filename='filtered.m3u8',\n",
    "):\n",
    "    out = []\n",
    "    chunks: Tuple[str, str] = []\n",
    "    chunk_start: Optional[str] = None\n",
    "    with open(original_playlist_filename) as f:\n",
    "    \n",
    "        lines = iter(f)\n",
    "        for line in lines:\n",
    "            if line.startswith('#EXTINF'):\n",
    "                chunk_start = line\n",
    "                break\n",
    "            out.append(line)\n",
    "\n",
    "        for line in lines:\n",
    "            if chunk_start is not None:\n",
    "                chunks.append((chunk_start, line))\n",
    "                chunk_start = None\n",
    "            elif line.startswith('#EXTINF'):\n",
    "                chunk_start = line\n",
    "            else:\n",
    "                # really I should use a peekable iterator, or put line back on\n",
    "                # the front of lines, but nevermind.\n",
    "                trailing_line = line\n",
    "                break\n",
    "        else:\n",
    "            trailing_line = ''\n",
    "\n",
    "        chunks = [\n",
    "            chunk\n",
    "            for chunk in chunks\n",
    "            if filter_function(\n",
    "                original_playlist_filename.replace(\n",
    "                    '.hls/out.m3u8', \n",
    "                    '.images/' + to_keyframe_filename(chunk[-1])\n",
    "                )\n",
    "            )\n",
    "        ]\n",
    "\n",
    "        for chunk in chunks:\n",
    "            out.extend(chunk)\n",
    "            # Credit to @DHE in #ffmpeg on freenode for suggesting\n",
    "            # #EXT-X-DISCONTINUITY.\n",
    "            # https://developer.apple.com/documentation/http_live_streaming/example_playlists_for_http_live_streaming/incorporating_ads_into_a_playlist\n",
    "            out.append('#EXT-X-DISCONTINUITY\\n')\n",
    "        # strip the #EXT-X-DISCONTINUITY from after the last chunk\n",
    "        out.pop()\n",
    "        out.append(trailing_line)\n",
    "\n",
    "        for line in lines:\n",
    "            out.append(line)\n",
    "\n",
    "    filtered_filename = original_playlist_filename.replace('out.m3u8', output_filename)\n",
    "    with open(filtered_filename,'w',) as f:\n",
    "        f.write(''.join(out)+'\\n')\n",
    "    return filtered_filename.replace(HOME, '~')\n",
    "        \n",
    "\n",
    "def has_eye_contact(filename):\n",
    "    if not os.path.exists(filename):\n",
    "        return False\n",
    "    return 0.5 > eye_score_for_file(filename) > 0.25\n",
    "\n",
    "def has_no_eye_contact(filename):\n",
    "    if not os.path.exists(filename):\n",
    "        return False\n",
    "    return eye_score_for_file(filename) < 0.25\n",
    "\n",
    "for _score, filename in best:\n",
    "    print(make_filtered_playlist(\n",
    "        filename.replace('~', HOME),\n",
    "        has_eye_contact,\n",
    "        'filtered.m3u8'\n",
    "    ))\n",
    "    print(make_filtered_playlist(\n",
    "        filename.replace('~', HOME),\n",
    "        has_no_eye_contact,\n",
    "        'rejected.m3u8'\n",
    "    ))"
   ]
  },
  {
   "cell_type": "code",
   "execution_count": null,
   "metadata": {},
   "outputs": [],
   "source": []
  },
  {
   "cell_type": "code",
   "execution_count": null,
   "metadata": {},
   "outputs": [],
   "source": [
    "faces = [\n",
    "    (filename, face)\n",
    "    for filename in face_filenames\n",
    "#         if ('1920x1080/1080P_4000K_236777331.mp4' in filename)\n",
    "            for face in detect_with_fallbacks(filename)\n",
    "#                 if not any((point.x < 1920 and point.y < 1080) for point in face.parts())\n",
    "]\n"
   ]
  },
  {
   "cell_type": "code",
   "execution_count": null,
   "metadata": {},
   "outputs": [],
   "source": [
    "pyplot.figure()\n",
    "for filename, face in faces:\n",
    "    points = [\n",
    "        (point.x, -point.y)\n",
    "        for point in face.parts()\n",
    "    ]\n",
    "    pyplot.scatter(*zip(*points), label=filename.replace(HOME, '~'))\n",
    "# pyplot.legend()"
   ]
  },
  {
   "cell_type": "code",
   "execution_count": null,
   "metadata": {},
   "outputs": [],
   "source": [
    "pyplot.figure()\n",
    "eyes = [\n",
    "    (\n",
    "        eye_score_for_file(filename),\n",
    "        max((i for (i, _) in detect_dnn_with_scores(filename)), default=0)\n",
    "    )\n",
    "    for (i, filename) in enumerate(files)\n",
    "    if 'Beertje96' in filename\n",
    "]\n",
    "pyplot.plot(eyes, linestyle='', marker='.')\n",
    "pyplot.legend()"
   ]
  },
  {
   "cell_type": "code",
   "execution_count": null,
   "metadata": {},
   "outputs": [],
   "source": [
    "pyplot.plot?\n"
   ]
  },
  {
   "cell_type": "code",
   "execution_count": null,
   "metadata": {},
   "outputs": [],
   "source": [
    "max?"
   ]
  },
  {
   "cell_type": "code",
   "execution_count": null,
   "metadata": {},
   "outputs": [],
   "source": [
    "len(face.parts())\n"
   ]
  },
  {
   "cell_type": "code",
   "execution_count": 162,
   "metadata": {},
   "outputs": [
    {
     "name": "stdout",
     "output_type": "stream",
     "text": [
      "\n",
      "\n"
     ]
    },
    {
     "data": {
      "text/plain": [
       "[None, None]"
      ]
     },
     "execution_count": 162,
     "metadata": {},
     "output_type": "execute_result"
    }
   ],
   "source": [
    "[j.join() for j in jobs.running]"
   ]
  },
  {
   "cell_type": "code",
   "execution_count": 163,
   "metadata": {},
   "outputs": [
    {
     "data": {
      "image/png": "[encoded data removed]",
      "text/plain": [
       "<Figure size 2160x720 with 1 Axes>"
      ]
     },
     "metadata": {
      "needs_background": "light"
     },
     "output_type": "display_data"
    }
   ],
   "source": [
    "pyplot.figure(figsize=(30,10))\n",
    "\n",
    "totals = []\n",
    "faces = []\n",
    "labels = []\n",
    "to_plot = []\n",
    "for folder in glob.glob(faces_folder_path):\n",
    "    category = folder.rsplit('/')[-2]\n",
    "#     print(category)\n",
    "    total = len([f for f in get_filenames() if folder in f])\n",
    "    if total > 500:\n",
    "        totals.append(total)\n",
    "        face_count = len([f for f in get_face_filenames() if folder in f])\n",
    "        faces.append(face_count)\n",
    "        labels.append(category)\n",
    "        to_plot.append((face_count / total, category))\n",
    "\n",
    "height, labels = zip(*sorted(to_plot))\n",
    "# bars = labels\n",
    "# height = faces\n",
    "y_pos = numpy.arange(len(labels))\n",
    "\n",
    "# pyplot.scatter(totals, faces)\n",
    "pyplot.bar(y_pos, height)\n",
    "pyplot.xticks(y_pos, labels, rotation=-90)\n",
    "\n",
    "None\n",
    "    "
   ]
  },
  {
   "cell_type": "code",
   "execution_count": 158,
   "metadata": {},
   "outputs": [
    {
     "name": "stdout",
     "output_type": "stream",
     "text": [
      "[]\n"
     ]
    }
   ],
   "source": [
    "get_filenames.cache_clear()\n",
    "bad = []\n",
    "for folder in glob.glob(faces_folder_path):\n",
    "    category = folder.rsplit('/')[-2]\n",
    "#     print(category)\n",
    "    total = len([f for f in get_filenames() if folder in f])\n",
    "    if total < 500:\n",
    "        bad.append((total, category))\n",
    "        \n",
    "print(list(sorted(bad)))"
   ]
  },
  {
   "cell_type": "code",
   "execution_count": null,
   "metadata": {},
   "outputs": [],
   "source": []
  }
 ],
 "metadata": {
  "kernelspec": {
   "display_name": "Python 3",
   "language": "python",
   "name": "python3"
  },
  "language_info": {
   "codemirror_mode": {
    "name": "ipython",
    "version": 3
   },
   "file_extension": ".py",
   "mimetype": "text/x-python",
   "name": "python",
   "nbconvert_exporter": "python",
   "pygments_lexer": "ipython3",
   "version": "3.7.6"
  }
 },
 "nbformat": 4,
 "nbformat_minor": 2
}
