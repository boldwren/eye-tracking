{
 "cells": [
  {
   "cell_type": "code",
   "execution_count": 21,
   "metadata": {},
   "outputs": [],
   "source": [
    "from typing import List, Any\n",
    "Shape = Any\n"
   ]
  },
  {
   "cell_type": "code",
   "execution_count": 22,
   "metadata": {},
   "outputs": [],
   "source": [
    "from functools import lru_cache\n",
    "import sys\n",
    "import os\n",
    "import glob\n",
    "\n",
    "import dlib\n",
    "from scipy.spatial import distance as dist\n",
    "import cv2\n",
    "from matplotlib import pyplot\n",
    "import tqdm.notebook\n",
    "import ipywidgets as wg\n",
    "import IPython.core.display\n",
    "\n",
    "HOME = os.environ['HOME']"
   ]
  },
  {
   "cell_type": "code",
   "execution_count": 23,
   "metadata": {},
   "outputs": [],
   "source": [
    "# If this is broken then patch $VIRTUAL_ENV/lib/python3.7/site-packages/faced/detector.py\n",
    "# as described in https://github.com/iitzco/faced/issues/27 and then:\n",
    "#     del sys.modules[\"faced.detector\"]\n",
    "#     del sys.modules[\"faced\"]\n",
    "# so that it reloads when you import it again.\n",
    "import faced\n"
   ]
  },
  {
   "cell_type": "code",
   "execution_count": 24,
   "metadata": {},
   "outputs": [],
   "source": [
    "predictor_path = 'shape_predictor_68_face_landmarks.dat'\n",
    "detector = dlib.get_frontal_face_detector()\n",
    "predictor = dlib.shape_predictor(predictor_path)\n"
   ]
  },
  {
   "cell_type": "code",
   "execution_count": 25,
   "metadata": {},
   "outputs": [],
   "source": [
    "@lru_cache(maxsize=1000_000)\n",
    "def detect(filename) -> List[Shape]:\n",
    "    img = dlib.load_rgb_image(filename)\n",
    "    dets = detector(img, 1)\n",
    "    shapes = []\n",
    "    for d in dets:\n",
    "        shape = predictor(img, d)\n",
    "        shapes.append(shape)\n",
    "    return shapes\n"
   ]
  },
  {
   "cell_type": "code",
   "execution_count": 26,
   "metadata": {},
   "outputs": [],
   "source": [
    "\n",
    "\n",
    "face_detector = faced.FaceDetector()\n",
    "\n",
    "def to_rectangles(bboxes):\n",
    "    rectangles = dlib.rectangles()\n",
    "    for (x_center, y_center, width, height, prob) in bboxes:\n",
    "        rectangle = dlib.rectangle(\n",
    "            x_center - (width//2),\n",
    "            y_center - (height//2),\n",
    "            x_center + (width//2),\n",
    "            y_center + (height//2),\n",
    "        )\n",
    "        rectangles.append(rectangle)\n",
    "    return rectangles\n",
    "\n",
    "@lru_cache(maxsize=1000_000)\n",
    "def detect_both_ways(filename):\n",
    "    img = dlib.load_rgb_image(filename)\n",
    "    dets = detector(img, 1)\n",
    "\n",
    "    img = cv2.imread(filename)\n",
    "    rgb_img = cv2.cvtColor(img.copy(), cv2.COLOR_BGR2RGB)\n",
    "\n",
    "    # Receives RGB numpy image (HxWxC) and\n",
    "    # returns (x_center, y_center, width, height, prob) tuples. \n",
    "    bboxes = face_detector.predict(rgb_img)\n",
    "    return dets, to_rectangles(bboxes)\n",
    "\n",
    "\n",
    "\n",
    "@lru_cache(maxsize=1000_000)\n",
    "def detect2(filename):\n",
    "    img = cv2.imread(filename)\n",
    "    rgb_img = cv2.cvtColor(img.copy(), cv2.COLOR_BGR2RGB)\n",
    "    bboxes = face_detector.predict(rgb_img)\n",
    "    rectangles = to_rectangles(bboxes)\n",
    "    faces = []\n",
    "    for d in rectangles:\n",
    "        face = predictor(img, d)\n",
    "        if valid(face, img.shape):\n",
    "            faces.append(face)\n",
    "    return faces"
   ]
  },
  {
   "cell_type": "code",
   "execution_count": 27,
   "metadata": {},
   "outputs": [],
   "source": [
    "# see https://www.learnopencv.com/face-detection-opencv-dlib-and-deep-learning-c-python/\n",
    "import cv2\n",
    "import time\n",
    "import sys\n",
    "\n",
    "\n",
    "def detectFaceOpenCVDnn(net, frame):\n",
    "    conf_threshold = 0.7\n",
    "    \n",
    "    frameOpencvDnn = frame.copy()\n",
    "    frameHeight = frameOpencvDnn.shape[0]\n",
    "    frameWidth = frameOpencvDnn.shape[1]\n",
    "    blob = cv2.dnn.blobFromImage(frameOpencvDnn, 1.0, (300, 300), [104, 117, 123], False, False)\n",
    "\n",
    "    net.setInput(blob)\n",
    "    detections = net.forward()\n",
    "    bboxes = []\n",
    "    for i in range(detections.shape[2]):\n",
    "        confidence = detections[0, 0, i, 2]\n",
    "        if confidence > conf_threshold:\n",
    "            x1 = int(detections[0, 0, i, 3] * frameWidth)\n",
    "            y1 = int(detections[0, 0, i, 4] * frameHeight)\n",
    "            x2 = int(detections[0, 0, i, 5] * frameWidth)\n",
    "            y2 = int(detections[0, 0, i, 6] * frameHeight)\n",
    "            bboxes.append([x1, y1, x2, y2])\n",
    "            cv2.rectangle(frameOpencvDnn, (x1, y1), (x2, y2), (0, 255, 0), int(round(frameHeight/150)), 8)\n",
    "    return frameOpencvDnn, bboxes\n",
    "\n",
    "@lru_cache()\n",
    "def initOpenCVDnn():\n",
    "    modelFile = \"learnopencv/FaceDetectionComparison/models/res10_300x300_ssd_iter_140000_fp16.caffemodel\"\n",
    "    configFile = \"learnopencv/FaceDetectionComparison/models/deploy.prototxt\"\n",
    "    net = cv2.dnn.readNetFromCaffe(configFile, modelFile)\n",
    "    \n",
    "    return net\n",
    "  \n",
    "@lru_cache(maxsize=1000_000)\n",
    "def detect_dnn(filename):\n",
    "    net = initOpenCVDnn()\n",
    "    img = cv2.imread(filename)\n",
    "#     rgb_img = cv2.cvtColor(img.copy(), cv2.COLOR_BGR2RGB)\n",
    "    outOpencvDnn, bboxes = detectFaceOpenCVDnn(net,img)\n",
    "    \n",
    "    rectangles = dlib.rectangles()\n",
    "    for bbox in bboxes:\n",
    "        rectangles.append(dlib.rectangle(*bbox))\n",
    "\n",
    "    faces = []\n",
    "    for d in rectangles:\n",
    "        face = predictor(img, d)\n",
    "        if valid(face, img.shape):\n",
    "            faces.append(face)\n",
    "    return faces"
   ]
  },
  {
   "cell_type": "code",
   "execution_count": 28,
   "metadata": {},
   "outputs": [],
   "source": [
    "def valid(face, shape=(1920, 3840, 3)):\n",
    "    y, x, *_channels = shape\n",
    "    return any((point.x < x and point.y < y) for point in face.parts())\n",
    "\n",
    "def only_valid(faces):\n",
    "    return [\n",
    "        face for face in faces\n",
    "        if valid(face)\n",
    "    ]\n",
    "\n",
    "def only_invalid(faces):\n",
    "    return [\n",
    "        face for face in faces\n",
    "        if not valid(face)\n",
    "    ]\n",
    "def detect_with_fallbacks(filename):\n",
    "    return detect_dnn(filename) or detect2(filename) # or detect(filename)"
   ]
  },
  {
   "cell_type": "code",
   "execution_count": 29,
   "metadata": {},
   "outputs": [],
   "source": [
    "FACIAL_LANDMARKS_IDXS = dict([\n",
    "    (\"mouth\", (48, 68)),\n",
    "    (\"right_eyebrow\", (17, 22)),\n",
    "    (\"left_eyebrow\", (22, 27)),\n",
    "    (\"right_eye\", (36, 42)),\n",
    "    (\"left_eye\", (42, 48)),\n",
    "    (\"nose\", (27, 35)),\n",
    "    (\"jaw\", (0, 17))\n",
    "])\n",
    "\n",
    "\n",
    "def eye_aspect_ratio(eye):\n",
    "    # compute the euclidean distances between the two sets of\n",
    "    # vertical eye landmarks (x, y)-coordinates\n",
    "    A =  dlib.length(eye[1] - eye[5])\n",
    "    B =  dlib.length(eye[2] - eye[4])\n",
    " \n",
    "    # compute the euclidean distance between the horizontal\n",
    "    # eye landmark (x, y)-coordinates\n",
    "    C = dlib.length(eye[0] - eye[3])\n",
    " \n",
    "    # compute the eye aspect ratio\n",
    "    ratio = (A + B) / (2.0 * C)\n",
    " \n",
    "    # return the eye aspect ratio\n",
    "    return ratio\n",
    "\n",
    "def max_eye_aspect_ratio(faces):\n",
    "    max_ratio = 0\n",
    "    for face in faces:\n",
    "        for part in (\"left_eye\", \"right_eye\"):\n",
    "            start, end = FACIAL_LANDMARKS_IDXS[part]\n",
    "            eye = face.parts()[start:end]\n",
    "            ratio = eye_aspect_ratio(eye)\n",
    "            max_ratio = max([ratio, max_ratio])\n",
    "    return max_ratio\n",
    "\n",
    "def eye_score_for_file(filename):\n",
    "    return max_eye_aspect_ratio(detect_with_fallbacks(filename))\n",
    "\n",
    "def max_face_size(faces):\n",
    "    max_size = 0\n",
    "    for face in faces:\n",
    "        parts = face.parts()\n",
    "        size = 0\n",
    "        size += dlib.length(parts[1] - parts[17])\n",
    "        size += dlib.length(parts[2] - parts[16])\n",
    "        size += dlib.length(parts[3] - parts[15])\n",
    "        max_size = max([size, max_size])\n",
    "    return max_size\n",
    "\n",
    "def face_score_for_file(filename):\n",
    "    return max_face_size(detect_with_fallbacks(filename))\n",
    "    "
   ]
  },
  {
   "cell_type": "code",
   "execution_count": 30,
   "metadata": {},
   "outputs": [],
   "source": [
    "@lru_cache(maxsize=1000_000)\n",
    "def save_face_chip(filename):\n",
    "    faces = detect_with_fallbacks(filename)\n",
    "    scores = [max_eye_aspect_ratio([face]) for face in faces]\n",
    "    if len(faces):\n",
    "        best_face = max(zip(scores, enumerate(faces)))[-1][-1]\n",
    "        img = dlib.load_rgb_image(filename)\n",
    "        dlib.save_face_chip(img, best_face, filename.replace('.jpeg', '.detected'))\n",
    "        return filename.replace('.jpeg', '.detected.jpg')\n",
    "    return filename"
   ]
  },
  {
   "cell_type": "code",
   "execution_count": 31,
   "metadata": {},
   "outputs": [],
   "source": [
    "@lru_cache(maxsize=1000_000)\n",
    "def save_broken_face_chip(filename):\n",
    "    faces = only_invalid(detect_with_fallbacks(filename))\n",
    "    scores = [max_eye_aspect_ratio([face]) for face in faces]\n",
    "    if len(faces):\n",
    "        best_face = max(zip(scores, enumerate(faces)))[-1][-1]\n",
    "        img = dlib.load_rgb_image(filename)\n",
    "        dlib.save_face_chip(img, best_face, filename.replace('.jpeg', '.funky'))\n",
    "        return filename.replace('.jpeg', '.funky.jpg')\n",
    "    return filename"
   ]
  },
  {
   "cell_type": "code",
   "execution_count": 47,
   "metadata": {},
   "outputs": [
    {
     "data": {
      "application/vnd.jupyter.widget-view+json": {
       "model_id": "1bce227458ec446dbbe708b272dc09a5",
       "version_major": 2,
       "version_minor": 0
      },
      "text/plain": [
       "HBox(children=(FloatProgress(value=0.0, max=906.0), HTML(value='')))"
      ]
     },
     "metadata": {},
     "output_type": "display_data"
    },
    {
     "name": "stdout",
     "output_type": "stream",
     "text": [
      "\n"
     ]
    }
   ],
   "source": [
    "faces_folder_path = f'{HOME}/tmp/*x*/*/*.mp4.images/'\n",
    "\n",
    "files = list(\n",
    "    f for f in sorted(glob.glob(os.path.join(faces_folder_path, \"*.jpeg\")))\n",
    "    if '/tmp/3840x1920/1.mp4' not in f\n",
    "#     and '1920x1080/1080P_4000K_236777331.mp4' in f\n",
    ")\n",
    "\n",
    "for filename in tqdm.notebook.tqdm(files): #[126:][:1]:\n",
    "#     print(\"Processing file: {}\".format(filename))\n",
    "    shapes = detect_with_fallbacks(filename)\n",
    "    if len(shapes):\n",
    "#         print(len(shapes), max_eye_aspect_ratio(shapes))\n",
    "        continue\n",
    "        save_face_chip(filename)\n",
    "        \n"
   ]
  },
  {
   "cell_type": "code",
   "execution_count": 62,
   "metadata": {},
   "outputs": [
    {
     "data": {
      "application/vnd.jupyter.widget-view+json": {
       "model_id": "1a84d6cf97ab4036a95494d2212bbef9",
       "version_major": 2,
       "version_minor": 0
      },
      "text/plain": [
       "interactive(children=(IntSlider(value=1, description='x', max=466, min=1), Output()), _dom_classes=('widget-in…"
      ]
     },
     "metadata": {},
     "output_type": "display_data"
    }
   ],
   "source": [
    "face_filenames = list(\n",
    "    sorted(\n",
    "        [\n",
    "            filename for filename in files\n",
    "            if True\n",
    "            and eye_score_for_file(filename) > 0.25 \n",
    "#             and '1920x1080/1080P_4000K_236777331.mp4' in filename\n",
    "#             and only_invalid(detect_with_fallbacks(filename))\n",
    "        ],\n",
    "#         key=face_score_for_file,\n",
    "    )\n",
    ")\n",
    "\n",
    "def show_face(x):\n",
    "    filename = face_filenames[x]\n",
    "    facename = filename.replace('.jpeg', '.detected')\n",
    "    shapes = detect_with_fallbacks(filename)\n",
    "    print(len(shapes), len(detect(filename)), filename.replace(HOME, '~'))\n",
    "    print(eye_score_for_file(filename))\n",
    "    print(face_score_for_file(filename))\n",
    "    \n",
    "    if len(shapes):\n",
    "        filename = save_face_chip(filename)\n",
    "    widget = IPython.core.display.Image(filename=filename)\n",
    "    return widget\n",
    "\n",
    "maxf = len(face_filenames) - 1\n",
    "wg.interact(show_face, x=wg.IntSlider(min=1,max=maxf,step=1));\n"
   ]
  },
  {
   "cell_type": "code",
   "execution_count": 63,
   "metadata": {},
   "outputs": [
    {
     "data": {
      "text/plain": [
       "(467, 906)"
      ]
     },
     "execution_count": 63,
     "metadata": {},
     "output_type": "execute_result"
    }
   ],
   "source": [
    "len(face_filenames) , len(files)"
   ]
  },
  {
   "cell_type": "code",
   "execution_count": 64,
   "metadata": {},
   "outputs": [
    {
     "data": {
      "text/plain": [
       "(467, 906)"
      ]
     },
     "execution_count": 64,
     "metadata": {},
     "output_type": "execute_result"
    }
   ],
   "source": [
    "len(face_filenames) , len(files)"
   ]
  },
  {
   "cell_type": "code",
   "execution_count": 65,
   "metadata": {},
   "outputs": [
    {
     "data": {
      "text/plain": [
       "(467, 906)"
      ]
     },
     "execution_count": 65,
     "metadata": {},
     "output_type": "execute_result"
    }
   ],
   "source": [
    "len(face_filenames) , len(files)"
   ]
  },
  {
   "cell_type": "code",
   "execution_count": 69,
   "metadata": {},
   "outputs": [],
   "source": [
    "from collections import Counter\n",
    "totals_breakdown = Counter(filename.split('keyframe')[0] for filename in files)\n",
    "# totals_breakdown"
   ]
  },
  {
   "cell_type": "code",
   "execution_count": 70,
   "metadata": {},
   "outputs": [],
   "source": [
    "faces_breakdown = Counter(filename.split('keyframe')[0] for filename in face_filenames)\n",
    "# faces_breakdown"
   ]
  },
  {
   "cell_type": "code",
   "execution_count": 68,
   "metadata": {},
   "outputs": [
    {
     "data": {
      "text/plain": [
       "[(0.6470588235294118,\n",
       "  '~/tmp/1920x1080/aa/1080P_4000K_266689892.mp4.hls/out.m3u8'),\n",
       " (0.5857142857142857,\n",
       "  '~/tmp/1920x1080/aa/1080P_4000K_268373792.mp4.hls/out.m3u8'),\n",
       " (0.5082872928176796,\n",
       "  '~/tmp/1920x1080/aa/1080P_4000K_261876322.mp4.hls/out.m3u8'),\n",
       " (0.48125, '~/tmp/1920x1080/aa/1080P_4000K_258650292.mp4.hls/out.m3u8'),\n",
       " (0.4768211920529801,\n",
       "  '~/tmp/1920x1080/aa/1080P_4000K_260238242.mp4.hls/out.m3u8'),\n",
       " (0.432258064516129,\n",
       "  '~/tmp/1920x1080/aa/1080P_4000K_269839451.mp4.hls/out.m3u8')]"
      ]
     },
     "execution_count": 68,
     "metadata": {},
     "output_type": "execute_result"
    }
   ],
   "source": [
    "best = sorted([(faces_breakdown[k]/totals_breakdown[k], k.replace('.images/', '.hls/out.m3u8').replace(HOME, '~')) for k in totals_breakdown.keys()], reverse=True)\n",
    "best"
   ]
  },
  {
   "cell_type": "code",
   "execution_count": null,
   "metadata": {},
   "outputs": [],
   "source": []
  },
  {
   "cell_type": "code",
   "execution_count": 54,
   "metadata": {},
   "outputs": [
    {
     "name": "stdout",
     "output_type": "stream",
     "text": [
      "~/tmp/1920x1080/aa/1080P_4000K_269839451.mp4.hls/filtered.m3u8\n",
      "~/tmp/1920x1080/aa/1080P_4000K_268373792.mp4.hls/filtered.m3u8\n",
      "~/tmp/1920x1080/aa/1080P_4000K_266689892.mp4.hls/filtered.m3u8\n",
      "~/tmp/1920x1080/aa/1080P_4000K_261876322.mp4.hls/filtered.m3u8\n",
      "~/tmp/1920x1080/aa/1080P_4000K_260238242.mp4.hls/filtered.m3u8\n",
      "~/tmp/1920x1080/aa/1080P_4000K_258650292.mp4.hls/filtered.m3u8\n"
     ]
    }
   ],
   "source": [
    "import os\n",
    "\n",
    "def to_keyframe_filename(ts_filename):\n",
    "    return ts_filename.replace(\n",
    "        'segment', 'keyframe'\n",
    "    ).replace(\n",
    "        '.ts\\n', '.jpeg'\n",
    "    )\n",
    "\n",
    "def make_filtered_playlist(original_playlist_filename, filter_function):\n",
    "    out = []\n",
    "    chunks: Tuple[str, str] = []\n",
    "    chunk_start: Optional[str] = None\n",
    "    with open(original_playlist_filename) as f:\n",
    "    \n",
    "        lines = iter(f)\n",
    "        for line in lines:\n",
    "            if line.startswith('#EXTINF'):\n",
    "                chunk_start = line\n",
    "                break\n",
    "            out.append(line)\n",
    "\n",
    "        for line in lines:\n",
    "            if chunk_start is not None:\n",
    "                chunks.append((chunk_start, line))\n",
    "                chunk_start = None\n",
    "            elif line.startswith('#EXTINF'):\n",
    "                chunk_start = line\n",
    "            else:\n",
    "                # really I should use a peekable iterator, or put line back on\n",
    "                # the front of lines, but nevermind.\n",
    "                trailing_line = line\n",
    "                break\n",
    "        else:\n",
    "            trailing_line = ''\n",
    "\n",
    "        chunks = [\n",
    "            chunk\n",
    "            for chunk in chunks\n",
    "            if filter_function(\n",
    "                original_playlist_filename.replace(\n",
    "                    '.hls/out.m3u8', \n",
    "                    '.images/' + to_keyframe_filename(chunk[-1])\n",
    "                )\n",
    "            )\n",
    "        ]\n",
    "\n",
    "        for chunk in chunks:\n",
    "            out.extend(chunk)\n",
    "            # Credit to @DHE in #ffmpeg on freenode for suggesting\n",
    "            # #EXT-X-DISCONTINUITY.\n",
    "            # https://developer.apple.com/documentation/http_live_streaming/example_playlists_for_http_live_streaming/incorporating_ads_into_a_playlist\n",
    "            out.append('#EXT-X-DISCONTINUITY\\n')\n",
    "        # strip the #EXT-X-DISCONTINUITY from after the last chunk\n",
    "        out.pop()\n",
    "        out.append(trailing_line)\n",
    "\n",
    "        for line in lines:\n",
    "            out.append(line)\n",
    "\n",
    "    filtered_filename = original_playlist_filename.replace('out.m3u8', 'filtered.m3u8')\n",
    "    with open(filtered_filename,'w',) as f:\n",
    "        f.write(''.join(out)+'\\n')\n",
    "    return filtered_filename.replace(HOME, '~')\n",
    "        \n",
    "\n",
    "def has_eye_contact(filename):\n",
    "    if not os.path.exists(filename):\n",
    "        return False\n",
    "    return eye_score_for_file(filename) > 0.25\n",
    "\n",
    "for _score, filename in best:\n",
    "    print(make_filtered_playlist(\n",
    "        filename.replace('~', HOME),\n",
    "        has_eye_contact,\n",
    "    ))"
   ]
  },
  {
   "cell_type": "code",
   "execution_count": null,
   "metadata": {},
   "outputs": [],
   "source": []
  },
  {
   "cell_type": "code",
   "execution_count": 71,
   "metadata": {},
   "outputs": [],
   "source": [
    "faces = [\n",
    "    (filename, face)\n",
    "    for filename in face_filenames\n",
    "#         if ('1920x1080/1080P_4000K_236777331.mp4' in filename)\n",
    "            for face in detect_with_fallbacks(filename)\n",
    "#                 if not any((point.x < 1920 and point.y < 1080) for point in face.parts())\n",
    "]\n"
   ]
  },
  {
   "cell_type": "code",
   "execution_count": 72,
   "metadata": {},
   "outputs": [
    {
     "data": {
      "image/png": "[encoded data removed]",
      "text/plain": [
       "<Figure size 432x288 with 1 Axes>"
      ]
     },
     "metadata": {
      "needs_background": "light"
     },
     "output_type": "display_data"
    }
   ],
   "source": [
    "pyplot.figure()\n",
    "for filename, face in faces:\n",
    "    points = [\n",
    "        (point.x, -point.y)\n",
    "        for point in face.parts()\n",
    "    ]\n",
    "    pyplot.scatter(*zip(*points), label=filename.replace(HOME, '~'))\n",
    "# pyplot.legend()"
   ]
  },
  {
   "cell_type": "code",
   "execution_count": null,
   "metadata": {},
   "outputs": [],
   "source": []
  }
 ],
 "metadata": {
  "kernelspec": {
   "display_name": "Python 3",
   "language": "python",
   "name": "python3"
  },
  "language_info": {
   "codemirror_mode": {
    "name": "ipython",
    "version": 3
   },
   "file_extension": ".py",
   "mimetype": "text/x-python",
   "name": "python",
   "nbconvert_exporter": "python",
   "pygments_lexer": "ipython3",
   "version": "3.7.4"
  }
 },
 "nbformat": 4,
 "nbformat_minor": 2
}
